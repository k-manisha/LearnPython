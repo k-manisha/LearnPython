{
 "cells": [
  {
   "cell_type": "code",
   "execution_count": 3,
   "metadata": {},
   "outputs": [],
   "source": [
    "import numpy as np\n",
    "import pandas as pd\n",
    "import matplotlib.pyplot as plt"
   ]
  },
  {
   "cell_type": "code",
   "execution_count": 4,
   "metadata": {},
   "outputs": [
    {
     "data": {
      "text/plain": [
       "0     1.0\n",
       "1     NaN\n",
       "2     3.0\n",
       "3     7.0\n",
       "4     9.0\n",
       "5    41.0\n",
       "dtype: float64"
      ]
     },
     "execution_count": 4,
     "metadata": {},
     "output_type": "execute_result"
    }
   ],
   "source": [
    "#creating series by passing a list. panda creates the default integer index\n",
    "s = pd.Series([1,np.nan,3,7,9, 41])\n",
    "s"
   ]
  },
  {
   "cell_type": "code",
   "execution_count": 5,
   "metadata": {},
   "outputs": [
    {
     "data": {
      "text/plain": [
       "DatetimeIndex(['2018-10-01', '2018-10-02', '2018-10-03', '2018-10-04',\n",
       "               '2018-10-05', '2018-10-06', '2018-10-07', '2018-10-08'],\n",
       "              dtype='datetime64[ns]', freq='D')"
      ]
     },
     "execution_count": 5,
     "metadata": {},
     "output_type": "execute_result"
    }
   ],
   "source": [
    "#creating DataFrame by NumPy with dates as index and labeled columns\n",
    "dates = pd.date_range('20181001', periods=8)\n",
    "dates"
   ]
  },
  {
   "cell_type": "code",
   "execution_count": 6,
   "metadata": {},
   "outputs": [
    {
     "data": {
      "text/html": [
       "<div>\n",
       "<style scoped>\n",
       "    .dataframe tbody tr th:only-of-type {\n",
       "        vertical-align: middle;\n",
       "    }\n",
       "\n",
       "    .dataframe tbody tr th {\n",
       "        vertical-align: top;\n",
       "    }\n",
       "\n",
       "    .dataframe thead th {\n",
       "        text-align: right;\n",
       "    }\n",
       "</style>\n",
       "<table border=\"1\" class=\"dataframe\">\n",
       "  <thead>\n",
       "    <tr style=\"text-align: right;\">\n",
       "      <th></th>\n",
       "      <th>A</th>\n",
       "      <th>B</th>\n",
       "      <th>C</th>\n",
       "      <th>D</th>\n",
       "      <th>E</th>\n",
       "    </tr>\n",
       "  </thead>\n",
       "  <tbody>\n",
       "    <tr>\n",
       "      <th>2018-10-01</th>\n",
       "      <td>-0.741131</td>\n",
       "      <td>1.131657</td>\n",
       "      <td>0.661282</td>\n",
       "      <td>-1.446660</td>\n",
       "      <td>1.113197</td>\n",
       "    </tr>\n",
       "    <tr>\n",
       "      <th>2018-10-02</th>\n",
       "      <td>0.008494</td>\n",
       "      <td>-0.804675</td>\n",
       "      <td>-0.349757</td>\n",
       "      <td>-2.376976</td>\n",
       "      <td>-0.119038</td>\n",
       "    </tr>\n",
       "    <tr>\n",
       "      <th>2018-10-03</th>\n",
       "      <td>0.120618</td>\n",
       "      <td>-0.649153</td>\n",
       "      <td>1.829234</td>\n",
       "      <td>0.308030</td>\n",
       "      <td>-0.098760</td>\n",
       "    </tr>\n",
       "    <tr>\n",
       "      <th>2018-10-04</th>\n",
       "      <td>-0.430845</td>\n",
       "      <td>-0.935010</td>\n",
       "      <td>0.401081</td>\n",
       "      <td>0.735348</td>\n",
       "      <td>0.163760</td>\n",
       "    </tr>\n",
       "    <tr>\n",
       "      <th>2018-10-05</th>\n",
       "      <td>-1.064615</td>\n",
       "      <td>0.857247</td>\n",
       "      <td>-0.964546</td>\n",
       "      <td>-0.107509</td>\n",
       "      <td>1.225077</td>\n",
       "    </tr>\n",
       "    <tr>\n",
       "      <th>2018-10-06</th>\n",
       "      <td>0.476518</td>\n",
       "      <td>-1.429488</td>\n",
       "      <td>1.267538</td>\n",
       "      <td>-0.964230</td>\n",
       "      <td>-1.623397</td>\n",
       "    </tr>\n",
       "    <tr>\n",
       "      <th>2018-10-07</th>\n",
       "      <td>0.352071</td>\n",
       "      <td>-0.047500</td>\n",
       "      <td>-0.936242</td>\n",
       "      <td>-0.967131</td>\n",
       "      <td>-0.254240</td>\n",
       "    </tr>\n",
       "    <tr>\n",
       "      <th>2018-10-08</th>\n",
       "      <td>0.942652</td>\n",
       "      <td>-0.647562</td>\n",
       "      <td>0.450863</td>\n",
       "      <td>0.097413</td>\n",
       "      <td>1.030683</td>\n",
       "    </tr>\n",
       "  </tbody>\n",
       "</table>\n",
       "</div>"
      ],
      "text/plain": [
       "                   A         B         C         D         E\n",
       "2018-10-01 -0.741131  1.131657  0.661282 -1.446660  1.113197\n",
       "2018-10-02  0.008494 -0.804675 -0.349757 -2.376976 -0.119038\n",
       "2018-10-03  0.120618 -0.649153  1.829234  0.308030 -0.098760\n",
       "2018-10-04 -0.430845 -0.935010  0.401081  0.735348  0.163760\n",
       "2018-10-05 -1.064615  0.857247 -0.964546 -0.107509  1.225077\n",
       "2018-10-06  0.476518 -1.429488  1.267538 -0.964230 -1.623397\n",
       "2018-10-07  0.352071 -0.047500 -0.936242 -0.967131 -0.254240\n",
       "2018-10-08  0.942652 -0.647562  0.450863  0.097413  1.030683"
      ]
     },
     "execution_count": 6,
     "metadata": {},
     "output_type": "execute_result"
    }
   ],
   "source": [
    "df=pd.DataFrame(np.random.randn(8,5), index=dates, columns=list('ABCDE'))\n",
    "df"
   ]
  },
  {
   "cell_type": "code",
   "execution_count": 7,
   "metadata": {},
   "outputs": [
    {
     "data": {
      "text/html": [
       "<div>\n",
       "<style scoped>\n",
       "    .dataframe tbody tr th:only-of-type {\n",
       "        vertical-align: middle;\n",
       "    }\n",
       "\n",
       "    .dataframe tbody tr th {\n",
       "        vertical-align: top;\n",
       "    }\n",
       "\n",
       "    .dataframe thead th {\n",
       "        text-align: right;\n",
       "    }\n",
       "</style>\n",
       "<table border=\"1\" class=\"dataframe\">\n",
       "  <thead>\n",
       "    <tr style=\"text-align: right;\">\n",
       "      <th></th>\n",
       "      <th>A</th>\n",
       "      <th>B</th>\n",
       "      <th>C</th>\n",
       "      <th>D</th>\n",
       "      <th>E</th>\n",
       "    </tr>\n",
       "  </thead>\n",
       "  <tbody>\n",
       "    <tr>\n",
       "      <th>2018-10-01</th>\n",
       "      <td>-0.741131</td>\n",
       "      <td>1.131657</td>\n",
       "      <td>0.661282</td>\n",
       "      <td>-1.446660</td>\n",
       "      <td>1.113197</td>\n",
       "    </tr>\n",
       "    <tr>\n",
       "      <th>2018-10-02</th>\n",
       "      <td>0.008494</td>\n",
       "      <td>-0.804675</td>\n",
       "      <td>-0.349757</td>\n",
       "      <td>-2.376976</td>\n",
       "      <td>-0.119038</td>\n",
       "    </tr>\n",
       "    <tr>\n",
       "      <th>2018-10-03</th>\n",
       "      <td>0.120618</td>\n",
       "      <td>-0.649153</td>\n",
       "      <td>1.829234</td>\n",
       "      <td>0.308030</td>\n",
       "      <td>-0.098760</td>\n",
       "    </tr>\n",
       "    <tr>\n",
       "      <th>2018-10-04</th>\n",
       "      <td>-0.430845</td>\n",
       "      <td>-0.935010</td>\n",
       "      <td>0.401081</td>\n",
       "      <td>0.735348</td>\n",
       "      <td>0.163760</td>\n",
       "    </tr>\n",
       "    <tr>\n",
       "      <th>2018-10-05</th>\n",
       "      <td>-1.064615</td>\n",
       "      <td>0.857247</td>\n",
       "      <td>-0.964546</td>\n",
       "      <td>-0.107509</td>\n",
       "      <td>1.225077</td>\n",
       "    </tr>\n",
       "  </tbody>\n",
       "</table>\n",
       "</div>"
      ],
      "text/plain": [
       "                   A         B         C         D         E\n",
       "2018-10-01 -0.741131  1.131657  0.661282 -1.446660  1.113197\n",
       "2018-10-02  0.008494 -0.804675 -0.349757 -2.376976 -0.119038\n",
       "2018-10-03  0.120618 -0.649153  1.829234  0.308030 -0.098760\n",
       "2018-10-04 -0.430845 -0.935010  0.401081  0.735348  0.163760\n",
       "2018-10-05 -1.064615  0.857247 -0.964546 -0.107509  1.225077"
      ]
     },
     "execution_count": 7,
     "metadata": {},
     "output_type": "execute_result"
    }
   ],
   "source": [
    "#viewing data\n",
    "df.head()"
   ]
  },
  {
   "cell_type": "code",
   "execution_count": 8,
   "metadata": {},
   "outputs": [
    {
     "data": {
      "text/html": [
       "<div>\n",
       "<style scoped>\n",
       "    .dataframe tbody tr th:only-of-type {\n",
       "        vertical-align: middle;\n",
       "    }\n",
       "\n",
       "    .dataframe tbody tr th {\n",
       "        vertical-align: top;\n",
       "    }\n",
       "\n",
       "    .dataframe thead th {\n",
       "        text-align: right;\n",
       "    }\n",
       "</style>\n",
       "<table border=\"1\" class=\"dataframe\">\n",
       "  <thead>\n",
       "    <tr style=\"text-align: right;\">\n",
       "      <th></th>\n",
       "      <th>A</th>\n",
       "      <th>B</th>\n",
       "      <th>C</th>\n",
       "      <th>D</th>\n",
       "      <th>E</th>\n",
       "    </tr>\n",
       "  </thead>\n",
       "  <tbody>\n",
       "    <tr>\n",
       "      <th>2018-10-07</th>\n",
       "      <td>0.352071</td>\n",
       "      <td>-0.047500</td>\n",
       "      <td>-0.936242</td>\n",
       "      <td>-0.967131</td>\n",
       "      <td>-0.254240</td>\n",
       "    </tr>\n",
       "    <tr>\n",
       "      <th>2018-10-08</th>\n",
       "      <td>0.942652</td>\n",
       "      <td>-0.647562</td>\n",
       "      <td>0.450863</td>\n",
       "      <td>0.097413</td>\n",
       "      <td>1.030683</td>\n",
       "    </tr>\n",
       "  </tbody>\n",
       "</table>\n",
       "</div>"
      ],
      "text/plain": [
       "                   A         B         C         D         E\n",
       "2018-10-07  0.352071 -0.047500 -0.936242 -0.967131 -0.254240\n",
       "2018-10-08  0.942652 -0.647562  0.450863  0.097413  1.030683"
      ]
     },
     "execution_count": 8,
     "metadata": {},
     "output_type": "execute_result"
    }
   ],
   "source": [
    "df.tail(2)\n"
   ]
  },
  {
   "cell_type": "code",
   "execution_count": 9,
   "metadata": {},
   "outputs": [
    {
     "data": {
      "text/plain": [
       "array([[-0.7411311 ,  1.13165699,  0.66128208, -1.44665959,  1.11319717],\n",
       "       [ 0.0084945 , -0.80467524, -0.34975681, -2.37697627, -0.11903792],\n",
       "       [ 0.12061777, -0.64915348,  1.82923365,  0.30802984, -0.09875966],\n",
       "       [-0.43084458, -0.93500974,  0.40108106,  0.73534779,  0.16375975],\n",
       "       [-1.06461462,  0.85724726, -0.96454586, -0.1075087 ,  1.22507724],\n",
       "       [ 0.47651824, -1.429488  ,  1.26753751, -0.96423036, -1.623397  ],\n",
       "       [ 0.35207122, -0.04749965, -0.93624169, -0.96713097, -0.25423966],\n",
       "       [ 0.94265172, -0.64756165,  0.45086256,  0.09741334,  1.03068317]])"
      ]
     },
     "execution_count": 9,
     "metadata": {},
     "output_type": "execute_result"
    }
   ],
   "source": [
    "df.values"
   ]
  },
  {
   "cell_type": "code",
   "execution_count": 10,
   "metadata": {},
   "outputs": [
    {
     "data": {
      "text/html": [
       "<div>\n",
       "<style scoped>\n",
       "    .dataframe tbody tr th:only-of-type {\n",
       "        vertical-align: middle;\n",
       "    }\n",
       "\n",
       "    .dataframe tbody tr th {\n",
       "        vertical-align: top;\n",
       "    }\n",
       "\n",
       "    .dataframe thead th {\n",
       "        text-align: right;\n",
       "    }\n",
       "</style>\n",
       "<table border=\"1\" class=\"dataframe\">\n",
       "  <thead>\n",
       "    <tr style=\"text-align: right;\">\n",
       "      <th></th>\n",
       "      <th>A</th>\n",
       "      <th>B</th>\n",
       "      <th>C</th>\n",
       "      <th>D</th>\n",
       "      <th>E</th>\n",
       "    </tr>\n",
       "  </thead>\n",
       "  <tbody>\n",
       "    <tr>\n",
       "      <th>count</th>\n",
       "      <td>8.000000</td>\n",
       "      <td>8.000000</td>\n",
       "      <td>8.000000</td>\n",
       "      <td>8.000000</td>\n",
       "      <td>8.000000</td>\n",
       "    </tr>\n",
       "    <tr>\n",
       "      <th>mean</th>\n",
       "      <td>-0.042030</td>\n",
       "      <td>-0.315560</td>\n",
       "      <td>0.294932</td>\n",
       "      <td>-0.590214</td>\n",
       "      <td>0.179660</td>\n",
       "    </tr>\n",
       "    <tr>\n",
       "      <th>std</th>\n",
       "      <td>0.666377</td>\n",
       "      <td>0.896586</td>\n",
       "      <td>0.999109</td>\n",
       "      <td>1.033563</td>\n",
       "      <td>0.948299</td>\n",
       "    </tr>\n",
       "    <tr>\n",
       "      <th>min</th>\n",
       "      <td>-1.064615</td>\n",
       "      <td>-1.429488</td>\n",
       "      <td>-0.964546</td>\n",
       "      <td>-2.376976</td>\n",
       "      <td>-1.623397</td>\n",
       "    </tr>\n",
       "    <tr>\n",
       "      <th>25%</th>\n",
       "      <td>-0.508416</td>\n",
       "      <td>-0.837259</td>\n",
       "      <td>-0.496378</td>\n",
       "      <td>-1.087013</td>\n",
       "      <td>-0.152838</td>\n",
       "    </tr>\n",
       "    <tr>\n",
       "      <th>50%</th>\n",
       "      <td>0.064556</td>\n",
       "      <td>-0.648358</td>\n",
       "      <td>0.425972</td>\n",
       "      <td>-0.535870</td>\n",
       "      <td>0.032500</td>\n",
       "    </tr>\n",
       "    <tr>\n",
       "      <th>75%</th>\n",
       "      <td>0.383183</td>\n",
       "      <td>0.178687</td>\n",
       "      <td>0.812846</td>\n",
       "      <td>0.150067</td>\n",
       "      <td>1.051312</td>\n",
       "    </tr>\n",
       "    <tr>\n",
       "      <th>max</th>\n",
       "      <td>0.942652</td>\n",
       "      <td>1.131657</td>\n",
       "      <td>1.829234</td>\n",
       "      <td>0.735348</td>\n",
       "      <td>1.225077</td>\n",
       "    </tr>\n",
       "  </tbody>\n",
       "</table>\n",
       "</div>"
      ],
      "text/plain": [
       "              A         B         C         D         E\n",
       "count  8.000000  8.000000  8.000000  8.000000  8.000000\n",
       "mean  -0.042030 -0.315560  0.294932 -0.590214  0.179660\n",
       "std    0.666377  0.896586  0.999109  1.033563  0.948299\n",
       "min   -1.064615 -1.429488 -0.964546 -2.376976 -1.623397\n",
       "25%   -0.508416 -0.837259 -0.496378 -1.087013 -0.152838\n",
       "50%    0.064556 -0.648358  0.425972 -0.535870  0.032500\n",
       "75%    0.383183  0.178687  0.812846  0.150067  1.051312\n",
       "max    0.942652  1.131657  1.829234  0.735348  1.225077"
      ]
     },
     "execution_count": 10,
     "metadata": {},
     "output_type": "execute_result"
    }
   ],
   "source": [
    "#shows a quick statistic summary of your data:\n",
    "df.describe()"
   ]
  },
  {
   "cell_type": "code",
   "execution_count": 11,
   "metadata": {},
   "outputs": [
    {
     "data": {
      "text/plain": [
       "DatetimeIndex(['2018-10-01', '2018-10-02', '2018-10-03', '2018-10-04',\n",
       "               '2018-10-05', '2018-10-06', '2018-10-07', '2018-10-08'],\n",
       "              dtype='datetime64[ns]', freq='D')"
      ]
     },
     "execution_count": 11,
     "metadata": {},
     "output_type": "execute_result"
    }
   ],
   "source": [
    "df.index"
   ]
  },
  {
   "cell_type": "code",
   "execution_count": 12,
   "metadata": {},
   "outputs": [
    {
     "data": {
      "text/plain": [
       "Index(['A', 'B', 'C', 'D', 'E'], dtype='object')"
      ]
     },
     "execution_count": 12,
     "metadata": {},
     "output_type": "execute_result"
    }
   ],
   "source": [
    "df.columns"
   ]
  },
  {
   "cell_type": "code",
   "execution_count": 13,
   "metadata": {},
   "outputs": [
    {
     "name": "stdout",
     "output_type": "stream",
     "text": [
      "data\n",
      "                   A         B         C         D         E\n",
      "2018-10-01 -0.741131  1.131657  0.661282 -1.446660  1.113197\n",
      "2018-10-02  0.008494 -0.804675 -0.349757 -2.376976 -0.119038\n",
      "2018-10-03  0.120618 -0.649153  1.829234  0.308030 -0.098760\n",
      "2018-10-04 -0.430845 -0.935010  0.401081  0.735348  0.163760\n",
      "2018-10-05 -1.064615  0.857247 -0.964546 -0.107509  1.225077\n",
      "2018-10-06  0.476518 -1.429488  1.267538 -0.964230 -1.623397\n",
      "2018-10-07  0.352071 -0.047500 -0.936242 -0.967131 -0.254240\n",
      "2018-10-08  0.942652 -0.647562  0.450863  0.097413  1.030683\n",
      "transpose\n",
      "   2018-10-01  2018-10-02  2018-10-03  2018-10-04  2018-10-05  2018-10-06  \\\n",
      "A   -0.741131    0.008494    0.120618   -0.430845   -1.064615    0.476518   \n",
      "B    1.131657   -0.804675   -0.649153   -0.935010    0.857247   -1.429488   \n",
      "C    0.661282   -0.349757    1.829234    0.401081   -0.964546    1.267538   \n",
      "D   -1.446660   -2.376976    0.308030    0.735348   -0.107509   -0.964230   \n",
      "E    1.113197   -0.119038   -0.098760    0.163760    1.225077   -1.623397   \n",
      "\n",
      "   2018-10-07  2018-10-08  \n",
      "A    0.352071    0.942652  \n",
      "B   -0.047500   -0.647562  \n",
      "C   -0.936242    0.450863  \n",
      "D   -0.967131    0.097413  \n",
      "E   -0.254240    1.030683  \n"
     ]
    }
   ],
   "source": [
    "#transposing your data\n",
    "print(\"data\")\n",
    "print(df)\n",
    "print(\"transpose\")\n",
    "print(df.T)"
   ]
  },
  {
   "cell_type": "code",
   "execution_count": 14,
   "metadata": {},
   "outputs": [
    {
     "data": {
      "text/html": [
       "<div>\n",
       "<style scoped>\n",
       "    .dataframe tbody tr th:only-of-type {\n",
       "        vertical-align: middle;\n",
       "    }\n",
       "\n",
       "    .dataframe tbody tr th {\n",
       "        vertical-align: top;\n",
       "    }\n",
       "\n",
       "    .dataframe thead th {\n",
       "        text-align: right;\n",
       "    }\n",
       "</style>\n",
       "<table border=\"1\" class=\"dataframe\">\n",
       "  <thead>\n",
       "    <tr style=\"text-align: right;\">\n",
       "      <th></th>\n",
       "      <th>E</th>\n",
       "      <th>D</th>\n",
       "      <th>C</th>\n",
       "      <th>B</th>\n",
       "      <th>A</th>\n",
       "    </tr>\n",
       "  </thead>\n",
       "  <tbody>\n",
       "    <tr>\n",
       "      <th>2018-10-01</th>\n",
       "      <td>1.113197</td>\n",
       "      <td>-1.446660</td>\n",
       "      <td>0.661282</td>\n",
       "      <td>1.131657</td>\n",
       "      <td>-0.741131</td>\n",
       "    </tr>\n",
       "    <tr>\n",
       "      <th>2018-10-02</th>\n",
       "      <td>-0.119038</td>\n",
       "      <td>-2.376976</td>\n",
       "      <td>-0.349757</td>\n",
       "      <td>-0.804675</td>\n",
       "      <td>0.008494</td>\n",
       "    </tr>\n",
       "    <tr>\n",
       "      <th>2018-10-03</th>\n",
       "      <td>-0.098760</td>\n",
       "      <td>0.308030</td>\n",
       "      <td>1.829234</td>\n",
       "      <td>-0.649153</td>\n",
       "      <td>0.120618</td>\n",
       "    </tr>\n",
       "    <tr>\n",
       "      <th>2018-10-04</th>\n",
       "      <td>0.163760</td>\n",
       "      <td>0.735348</td>\n",
       "      <td>0.401081</td>\n",
       "      <td>-0.935010</td>\n",
       "      <td>-0.430845</td>\n",
       "    </tr>\n",
       "    <tr>\n",
       "      <th>2018-10-05</th>\n",
       "      <td>1.225077</td>\n",
       "      <td>-0.107509</td>\n",
       "      <td>-0.964546</td>\n",
       "      <td>0.857247</td>\n",
       "      <td>-1.064615</td>\n",
       "    </tr>\n",
       "    <tr>\n",
       "      <th>2018-10-06</th>\n",
       "      <td>-1.623397</td>\n",
       "      <td>-0.964230</td>\n",
       "      <td>1.267538</td>\n",
       "      <td>-1.429488</td>\n",
       "      <td>0.476518</td>\n",
       "    </tr>\n",
       "    <tr>\n",
       "      <th>2018-10-07</th>\n",
       "      <td>-0.254240</td>\n",
       "      <td>-0.967131</td>\n",
       "      <td>-0.936242</td>\n",
       "      <td>-0.047500</td>\n",
       "      <td>0.352071</td>\n",
       "    </tr>\n",
       "    <tr>\n",
       "      <th>2018-10-08</th>\n",
       "      <td>1.030683</td>\n",
       "      <td>0.097413</td>\n",
       "      <td>0.450863</td>\n",
       "      <td>-0.647562</td>\n",
       "      <td>0.942652</td>\n",
       "    </tr>\n",
       "  </tbody>\n",
       "</table>\n",
       "</div>"
      ],
      "text/plain": [
       "                   E         D         C         B         A\n",
       "2018-10-01  1.113197 -1.446660  0.661282  1.131657 -0.741131\n",
       "2018-10-02 -0.119038 -2.376976 -0.349757 -0.804675  0.008494\n",
       "2018-10-03 -0.098760  0.308030  1.829234 -0.649153  0.120618\n",
       "2018-10-04  0.163760  0.735348  0.401081 -0.935010 -0.430845\n",
       "2018-10-05  1.225077 -0.107509 -0.964546  0.857247 -1.064615\n",
       "2018-10-06 -1.623397 -0.964230  1.267538 -1.429488  0.476518\n",
       "2018-10-07 -0.254240 -0.967131 -0.936242 -0.047500  0.352071\n",
       "2018-10-08  1.030683  0.097413  0.450863 -0.647562  0.942652"
      ]
     },
     "execution_count": 14,
     "metadata": {},
     "output_type": "execute_result"
    }
   ],
   "source": [
    "#Sorting by an axis\n",
    "df.sort_index(axis=1, ascending=False)"
   ]
  },
  {
   "cell_type": "code",
   "execution_count": 15,
   "metadata": {},
   "outputs": [
    {
     "data": {
      "text/html": [
       "<div>\n",
       "<style scoped>\n",
       "    .dataframe tbody tr th:only-of-type {\n",
       "        vertical-align: middle;\n",
       "    }\n",
       "\n",
       "    .dataframe tbody tr th {\n",
       "        vertical-align: top;\n",
       "    }\n",
       "\n",
       "    .dataframe thead th {\n",
       "        text-align: right;\n",
       "    }\n",
       "</style>\n",
       "<table border=\"1\" class=\"dataframe\">\n",
       "  <thead>\n",
       "    <tr style=\"text-align: right;\">\n",
       "      <th></th>\n",
       "      <th>A</th>\n",
       "      <th>B</th>\n",
       "      <th>C</th>\n",
       "      <th>D</th>\n",
       "      <th>E</th>\n",
       "    </tr>\n",
       "  </thead>\n",
       "  <tbody>\n",
       "    <tr>\n",
       "      <th>2018-10-02</th>\n",
       "      <td>0.008494</td>\n",
       "      <td>-0.804675</td>\n",
       "      <td>-0.349757</td>\n",
       "      <td>-2.376976</td>\n",
       "      <td>-0.119038</td>\n",
       "    </tr>\n",
       "    <tr>\n",
       "      <th>2018-10-01</th>\n",
       "      <td>-0.741131</td>\n",
       "      <td>1.131657</td>\n",
       "      <td>0.661282</td>\n",
       "      <td>-1.446660</td>\n",
       "      <td>1.113197</td>\n",
       "    </tr>\n",
       "    <tr>\n",
       "      <th>2018-10-07</th>\n",
       "      <td>0.352071</td>\n",
       "      <td>-0.047500</td>\n",
       "      <td>-0.936242</td>\n",
       "      <td>-0.967131</td>\n",
       "      <td>-0.254240</td>\n",
       "    </tr>\n",
       "    <tr>\n",
       "      <th>2018-10-06</th>\n",
       "      <td>0.476518</td>\n",
       "      <td>-1.429488</td>\n",
       "      <td>1.267538</td>\n",
       "      <td>-0.964230</td>\n",
       "      <td>-1.623397</td>\n",
       "    </tr>\n",
       "    <tr>\n",
       "      <th>2018-10-05</th>\n",
       "      <td>-1.064615</td>\n",
       "      <td>0.857247</td>\n",
       "      <td>-0.964546</td>\n",
       "      <td>-0.107509</td>\n",
       "      <td>1.225077</td>\n",
       "    </tr>\n",
       "    <tr>\n",
       "      <th>2018-10-08</th>\n",
       "      <td>0.942652</td>\n",
       "      <td>-0.647562</td>\n",
       "      <td>0.450863</td>\n",
       "      <td>0.097413</td>\n",
       "      <td>1.030683</td>\n",
       "    </tr>\n",
       "    <tr>\n",
       "      <th>2018-10-03</th>\n",
       "      <td>0.120618</td>\n",
       "      <td>-0.649153</td>\n",
       "      <td>1.829234</td>\n",
       "      <td>0.308030</td>\n",
       "      <td>-0.098760</td>\n",
       "    </tr>\n",
       "    <tr>\n",
       "      <th>2018-10-04</th>\n",
       "      <td>-0.430845</td>\n",
       "      <td>-0.935010</td>\n",
       "      <td>0.401081</td>\n",
       "      <td>0.735348</td>\n",
       "      <td>0.163760</td>\n",
       "    </tr>\n",
       "  </tbody>\n",
       "</table>\n",
       "</div>"
      ],
      "text/plain": [
       "                   A         B         C         D         E\n",
       "2018-10-02  0.008494 -0.804675 -0.349757 -2.376976 -0.119038\n",
       "2018-10-01 -0.741131  1.131657  0.661282 -1.446660  1.113197\n",
       "2018-10-07  0.352071 -0.047500 -0.936242 -0.967131 -0.254240\n",
       "2018-10-06  0.476518 -1.429488  1.267538 -0.964230 -1.623397\n",
       "2018-10-05 -1.064615  0.857247 -0.964546 -0.107509  1.225077\n",
       "2018-10-08  0.942652 -0.647562  0.450863  0.097413  1.030683\n",
       "2018-10-03  0.120618 -0.649153  1.829234  0.308030 -0.098760\n",
       "2018-10-04 -0.430845 -0.935010  0.401081  0.735348  0.163760"
      ]
     },
     "execution_count": 15,
     "metadata": {},
     "output_type": "execute_result"
    }
   ],
   "source": [
    "#sort by values\n",
    "df.sort_values(by='D')"
   ]
  },
  {
   "cell_type": "code",
   "execution_count": 16,
   "metadata": {},
   "outputs": [
    {
     "data": {
      "text/html": [
       "<div>\n",
       "<style scoped>\n",
       "    .dataframe tbody tr th:only-of-type {\n",
       "        vertical-align: middle;\n",
       "    }\n",
       "\n",
       "    .dataframe tbody tr th {\n",
       "        vertical-align: top;\n",
       "    }\n",
       "\n",
       "    .dataframe thead th {\n",
       "        text-align: right;\n",
       "    }\n",
       "</style>\n",
       "<table border=\"1\" class=\"dataframe\">\n",
       "  <thead>\n",
       "    <tr style=\"text-align: right;\">\n",
       "      <th></th>\n",
       "      <th>A</th>\n",
       "      <th>B</th>\n",
       "      <th>C</th>\n",
       "      <th>D</th>\n",
       "      <th>E</th>\n",
       "    </tr>\n",
       "  </thead>\n",
       "  <tbody>\n",
       "    <tr>\n",
       "      <th>0</th>\n",
       "      <td>hi</td>\n",
       "      <td>1</td>\n",
       "      <td>foo</td>\n",
       "      <td>2</td>\n",
       "      <td>-0.613750</td>\n",
       "    </tr>\n",
       "    <tr>\n",
       "      <th>1</th>\n",
       "      <td>hi</td>\n",
       "      <td>1</td>\n",
       "      <td>foo</td>\n",
       "      <td>2</td>\n",
       "      <td>-0.104874</td>\n",
       "    </tr>\n",
       "    <tr>\n",
       "      <th>2</th>\n",
       "      <td>hi</td>\n",
       "      <td>1</td>\n",
       "      <td>foo</td>\n",
       "      <td>2</td>\n",
       "      <td>0.499019</td>\n",
       "    </tr>\n",
       "    <tr>\n",
       "      <th>3</th>\n",
       "      <td>hi</td>\n",
       "      <td>1</td>\n",
       "      <td>foo</td>\n",
       "      <td>2</td>\n",
       "      <td>1.594594</td>\n",
       "    </tr>\n",
       "  </tbody>\n",
       "</table>\n",
       "</div>"
      ],
      "text/plain": [
       "    A  B    C  D         E\n",
       "0  hi  1  foo  2 -0.613750\n",
       "1  hi  1  foo  2 -0.104874\n",
       "2  hi  1  foo  2  0.499019\n",
       "3  hi  1  foo  2  1.594594"
      ]
     },
     "execution_count": 16,
     "metadata": {},
     "output_type": "execute_result"
    }
   ],
   "source": [
    "#Creating a DataFrame by passing a dict of objects. dictionary objects get converted to series-like.\n",
    "df1= pd.DataFrame({ 'A':'hi',\n",
    "                    'B':1,\n",
    "                    'C': 'foo',\n",
    "                    'D': np.array([2]*4),\n",
    "                    'E': pd.Series(np.random.randn(4),index=list(range(4)),dtype='float32')\n",
    "                  })\n",
    "df1"
   ]
  },
  {
   "cell_type": "code",
   "execution_count": 17,
   "metadata": {},
   "outputs": [
    {
     "data": {
      "text/plain": [
       "A     object\n",
       "B      int64\n",
       "C     object\n",
       "D      int64\n",
       "E    float32\n",
       "dtype: object"
      ]
     },
     "execution_count": 17,
     "metadata": {},
     "output_type": "execute_result"
    }
   ],
   "source": [
    "#data types of columns\n",
    "df1.dtypes"
   ]
  },
  {
   "cell_type": "code",
   "execution_count": 18,
   "metadata": {},
   "outputs": [
    {
     "data": {
      "text/plain": [
       "65"
      ]
     },
     "execution_count": 18,
     "metadata": {},
     "output_type": "execute_result"
    }
   ],
   "source": [
    "a_ascii = ord('A')\n",
    "a_ascii\n"
   ]
  },
  {
   "cell_type": "code",
   "execution_count": 19,
   "metadata": {},
   "outputs": [
    {
     "data": {
      "text/plain": [
       "['A',\n",
       " 'B',\n",
       " 'C',\n",
       " 'D',\n",
       " 'E',\n",
       " 'F',\n",
       " 'G',\n",
       " 'H',\n",
       " 'I',\n",
       " 'J',\n",
       " 'K',\n",
       " 'L',\n",
       " 'M',\n",
       " 'N',\n",
       " 'O',\n",
       " 'P',\n",
       " 'Q',\n",
       " 'R',\n",
       " 'S',\n",
       " 'T',\n",
       " 'U',\n",
       " 'V',\n",
       " 'W',\n",
       " 'X',\n",
       " 'Y',\n",
       " 'Z']"
      ]
     },
     "execution_count": 19,
     "metadata": {},
     "output_type": "execute_result"
    }
   ],
   "source": [
    "alpha = [chr(i) for i in range(a_ascii, a_ascii+26)]\n",
    "alpha"
   ]
  },
  {
   "cell_type": "markdown",
   "metadata": {},
   "source": []
  },
  {
   "cell_type": "code",
   "execution_count": 20,
   "metadata": {},
   "outputs": [
    {
     "data": {
      "text/plain": [
       "array([ 0,  1,  2,  3,  4,  5,  6,  7,  8,  9, 10, 11, 12, 13, 14, 15, 16,\n",
       "       17, 18, 19, 20, 21, 22, 23, 24, 25])"
      ]
     },
     "execution_count": 20,
     "metadata": {},
     "output_type": "execute_result"
    }
   ],
   "source": [
    "numbers= np.arange(26)\n",
    "numbers"
   ]
  },
  {
   "cell_type": "code",
   "execution_count": 21,
   "metadata": {},
   "outputs": [
    {
     "data": {
      "text/plain": [
       "numpy.ndarray"
      ]
     },
     "execution_count": 21,
     "metadata": {},
     "output_type": "execute_result"
    }
   ],
   "source": [
    "type(numbers)\n",
    "#type(alpha)"
   ]
  },
  {
   "cell_type": "code",
   "execution_count": 22,
   "metadata": {},
   "outputs": [
    {
     "data": {
      "text/plain": [
       "{0: 'A',\n",
       " 1: 'B',\n",
       " 2: 'C',\n",
       " 3: 'D',\n",
       " 4: 'E',\n",
       " 5: 'F',\n",
       " 6: 'G',\n",
       " 7: 'H',\n",
       " 8: 'I',\n",
       " 9: 'J',\n",
       " 10: 'K',\n",
       " 11: 'L',\n",
       " 12: 'M',\n",
       " 13: 'N',\n",
       " 14: 'O',\n",
       " 15: 'P',\n",
       " 16: 'Q',\n",
       " 17: 'R',\n",
       " 18: 'S',\n",
       " 19: 'T',\n",
       " 20: 'U',\n",
       " 21: 'V',\n",
       " 22: 'W',\n",
       " 23: 'X',\n",
       " 24: 'Y',\n",
       " 25: 'Z'}"
      ]
     },
     "execution_count": 22,
     "metadata": {},
     "output_type": "execute_result"
    }
   ],
   "source": [
    "alpha_num= dict(zip(numbers,alpha))\n",
    "#type(alpha_num)\n",
    "alpha_num"
   ]
  },
  {
   "cell_type": "code",
   "execution_count": 23,
   "metadata": {},
   "outputs": [
    {
     "data": {
      "text/plain": [
       "a    0.0\n",
       "b    1.0\n",
       "c    2.0\n",
       "dtype: float64"
      ]
     },
     "execution_count": 23,
     "metadata": {},
     "output_type": "execute_result"
    }
   ],
   "source": [
    "d = {'a' : 0., 'b' : 1., 'c' : 2.}\n",
    "pd.Series(d)"
   ]
  },
  {
   "cell_type": "code",
   "execution_count": 25,
   "metadata": {},
   "outputs": [
    {
     "data": {
      "text/plain": [
       "m    NaN\n",
       "n    NaN\n",
       "b    1.0\n",
       "c    2.0\n",
       "dtype: float64"
      ]
     },
     "execution_count": 25,
     "metadata": {},
     "output_type": "execute_result"
    }
   ],
   "source": [
    "pd.Series(d, index=['m', 'n', 'b', 'c'])"
   ]
  },
  {
   "cell_type": "code",
   "execution_count": null,
   "metadata": {},
   "outputs": [],
   "source": [
    "pd.Series.reindex(d,)"
   ]
  }
 ],
 "metadata": {
  "kernelspec": {
   "display_name": "Python 3",
   "language": "python",
   "name": "python3"
  },
  "language_info": {
   "codemirror_mode": {
    "name": "ipython",
    "version": 3
   },
   "file_extension": ".py",
   "mimetype": "text/x-python",
   "name": "python",
   "nbconvert_exporter": "python",
   "pygments_lexer": "ipython3",
   "version": "3.6.5"
  }
 },
 "nbformat": 4,
 "nbformat_minor": 2
}

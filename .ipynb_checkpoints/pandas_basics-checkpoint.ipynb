{
 "cells": [
  {
   "cell_type": "code",
   "execution_count": 3,
   "metadata": {},
   "outputs": [],
   "source": [
    "import numpy as np\n",
    "import pandas as pd\n",
    "import matplotlib.pyplot as plt"
   ]
  },
  {
   "cell_type": "code",
   "execution_count": 10,
   "metadata": {},
   "outputs": [
    {
     "data": {
      "text/plain": [
       "0     1.0\n",
       "1     NaN\n",
       "2     3.0\n",
       "3     7.0\n",
       "4     9.0\n",
       "5    41.0\n",
       "dtype: float64"
      ]
     },
     "execution_count": 10,
     "metadata": {},
     "output_type": "execute_result"
    }
   ],
   "source": [
    "#creating series by passing a list. panda creates the default integer index\n",
    "s = pd.Series([1,np.nan,3,7,9, 41])\n",
    "s"
   ]
  },
  {
   "cell_type": "code",
   "execution_count": 4,
   "metadata": {},
   "outputs": [
    {
     "data": {
      "text/plain": [
       "DatetimeIndex(['2018-10-01', '2018-10-02', '2018-10-03', '2018-10-04',\n",
       "               '2018-10-05', '2018-10-06', '2018-10-07', '2018-10-08'],\n",
       "              dtype='datetime64[ns]', freq='D')"
      ]
     },
     "execution_count": 4,
     "metadata": {},
     "output_type": "execute_result"
    }
   ],
   "source": [
    "#creating DataFrame by NumPy with dates as index and labeled columns\n",
    "dates = pd.date_range('20181001', periods=8)\n",
    "dates"
   ]
  },
  {
   "cell_type": "code",
   "execution_count": 5,
   "metadata": {},
   "outputs": [
    {
     "data": {
      "text/html": [
       "<div>\n",
       "<style scoped>\n",
       "    .dataframe tbody tr th:only-of-type {\n",
       "        vertical-align: middle;\n",
       "    }\n",
       "\n",
       "    .dataframe tbody tr th {\n",
       "        vertical-align: top;\n",
       "    }\n",
       "\n",
       "    .dataframe thead th {\n",
       "        text-align: right;\n",
       "    }\n",
       "</style>\n",
       "<table border=\"1\" class=\"dataframe\">\n",
       "  <thead>\n",
       "    <tr style=\"text-align: right;\">\n",
       "      <th></th>\n",
       "      <th>A</th>\n",
       "      <th>B</th>\n",
       "      <th>C</th>\n",
       "      <th>D</th>\n",
       "      <th>E</th>\n",
       "    </tr>\n",
       "  </thead>\n",
       "  <tbody>\n",
       "    <tr>\n",
       "      <th>2018-10-01</th>\n",
       "      <td>0.309720</td>\n",
       "      <td>0.439361</td>\n",
       "      <td>-2.230571</td>\n",
       "      <td>-0.102619</td>\n",
       "      <td>-0.623510</td>\n",
       "    </tr>\n",
       "    <tr>\n",
       "      <th>2018-10-02</th>\n",
       "      <td>-1.699139</td>\n",
       "      <td>1.133279</td>\n",
       "      <td>-0.520971</td>\n",
       "      <td>0.293079</td>\n",
       "      <td>2.455655</td>\n",
       "    </tr>\n",
       "    <tr>\n",
       "      <th>2018-10-03</th>\n",
       "      <td>-1.290021</td>\n",
       "      <td>0.908691</td>\n",
       "      <td>-0.988437</td>\n",
       "      <td>0.810192</td>\n",
       "      <td>-0.067663</td>\n",
       "    </tr>\n",
       "    <tr>\n",
       "      <th>2018-10-04</th>\n",
       "      <td>-2.211808</td>\n",
       "      <td>-0.495209</td>\n",
       "      <td>1.375957</td>\n",
       "      <td>-0.254088</td>\n",
       "      <td>0.889198</td>\n",
       "    </tr>\n",
       "    <tr>\n",
       "      <th>2018-10-05</th>\n",
       "      <td>-1.376816</td>\n",
       "      <td>0.446930</td>\n",
       "      <td>-1.615658</td>\n",
       "      <td>0.944525</td>\n",
       "      <td>0.724817</td>\n",
       "    </tr>\n",
       "    <tr>\n",
       "      <th>2018-10-06</th>\n",
       "      <td>0.958429</td>\n",
       "      <td>-1.833822</td>\n",
       "      <td>0.980284</td>\n",
       "      <td>1.451297</td>\n",
       "      <td>0.535717</td>\n",
       "    </tr>\n",
       "    <tr>\n",
       "      <th>2018-10-07</th>\n",
       "      <td>1.485398</td>\n",
       "      <td>1.599790</td>\n",
       "      <td>-0.617193</td>\n",
       "      <td>1.145199</td>\n",
       "      <td>-0.525602</td>\n",
       "    </tr>\n",
       "    <tr>\n",
       "      <th>2018-10-08</th>\n",
       "      <td>-0.332500</td>\n",
       "      <td>1.087046</td>\n",
       "      <td>-0.225623</td>\n",
       "      <td>0.221090</td>\n",
       "      <td>-0.915387</td>\n",
       "    </tr>\n",
       "  </tbody>\n",
       "</table>\n",
       "</div>"
      ],
      "text/plain": [
       "                   A         B         C         D         E\n",
       "2018-10-01  0.309720  0.439361 -2.230571 -0.102619 -0.623510\n",
       "2018-10-02 -1.699139  1.133279 -0.520971  0.293079  2.455655\n",
       "2018-10-03 -1.290021  0.908691 -0.988437  0.810192 -0.067663\n",
       "2018-10-04 -2.211808 -0.495209  1.375957 -0.254088  0.889198\n",
       "2018-10-05 -1.376816  0.446930 -1.615658  0.944525  0.724817\n",
       "2018-10-06  0.958429 -1.833822  0.980284  1.451297  0.535717\n",
       "2018-10-07  1.485398  1.599790 -0.617193  1.145199 -0.525602\n",
       "2018-10-08 -0.332500  1.087046 -0.225623  0.221090 -0.915387"
      ]
     },
     "execution_count": 5,
     "metadata": {},
     "output_type": "execute_result"
    }
   ],
   "source": [
    "df=pd.DataFrame(np.random.randn(8,5), index=dates, columns=list('ABCDE'))\n",
    "df"
   ]
  },
  {
   "cell_type": "code",
   "execution_count": 51,
   "metadata": {},
   "outputs": [
    {
     "data": {
      "text/html": [
       "<div>\n",
       "<style scoped>\n",
       "    .dataframe tbody tr th:only-of-type {\n",
       "        vertical-align: middle;\n",
       "    }\n",
       "\n",
       "    .dataframe tbody tr th {\n",
       "        vertical-align: top;\n",
       "    }\n",
       "\n",
       "    .dataframe thead th {\n",
       "        text-align: right;\n",
       "    }\n",
       "</style>\n",
       "<table border=\"1\" class=\"dataframe\">\n",
       "  <thead>\n",
       "    <tr style=\"text-align: right;\">\n",
       "      <th></th>\n",
       "      <th>A</th>\n",
       "      <th>B</th>\n",
       "      <th>C</th>\n",
       "      <th>D</th>\n",
       "      <th>E</th>\n",
       "    </tr>\n",
       "  </thead>\n",
       "  <tbody>\n",
       "    <tr>\n",
       "      <th>2018-10-01</th>\n",
       "      <td>-1.210733</td>\n",
       "      <td>-0.950686</td>\n",
       "      <td>1.125340</td>\n",
       "      <td>0.661280</td>\n",
       "      <td>-1.680157</td>\n",
       "    </tr>\n",
       "    <tr>\n",
       "      <th>2018-10-02</th>\n",
       "      <td>-0.756828</td>\n",
       "      <td>0.021599</td>\n",
       "      <td>0.058710</td>\n",
       "      <td>-0.439847</td>\n",
       "      <td>-0.570496</td>\n",
       "    </tr>\n",
       "    <tr>\n",
       "      <th>2018-10-03</th>\n",
       "      <td>-0.356840</td>\n",
       "      <td>-0.439605</td>\n",
       "      <td>-0.609753</td>\n",
       "      <td>1.477341</td>\n",
       "      <td>-0.529182</td>\n",
       "    </tr>\n",
       "    <tr>\n",
       "      <th>2018-10-04</th>\n",
       "      <td>0.488620</td>\n",
       "      <td>0.725269</td>\n",
       "      <td>-0.028494</td>\n",
       "      <td>3.054565</td>\n",
       "      <td>-0.127047</td>\n",
       "    </tr>\n",
       "    <tr>\n",
       "      <th>2018-10-05</th>\n",
       "      <td>-0.159996</td>\n",
       "      <td>-1.375482</td>\n",
       "      <td>-0.118797</td>\n",
       "      <td>-0.831175</td>\n",
       "      <td>-1.533838</td>\n",
       "    </tr>\n",
       "  </tbody>\n",
       "</table>\n",
       "</div>"
      ],
      "text/plain": [
       "                   A         B         C         D         E\n",
       "2018-10-01 -1.210733 -0.950686  1.125340  0.661280 -1.680157\n",
       "2018-10-02 -0.756828  0.021599  0.058710 -0.439847 -0.570496\n",
       "2018-10-03 -0.356840 -0.439605 -0.609753  1.477341 -0.529182\n",
       "2018-10-04  0.488620  0.725269 -0.028494  3.054565 -0.127047\n",
       "2018-10-05 -0.159996 -1.375482 -0.118797 -0.831175 -1.533838"
      ]
     },
     "execution_count": 51,
     "metadata": {},
     "output_type": "execute_result"
    }
   ],
   "source": [
    "#viewing data\n",
    "df.head()"
   ]
  },
  {
   "cell_type": "code",
   "execution_count": 59,
   "metadata": {},
   "outputs": [
    {
     "data": {
      "text/html": [
       "<div>\n",
       "<style scoped>\n",
       "    .dataframe tbody tr th:only-of-type {\n",
       "        vertical-align: middle;\n",
       "    }\n",
       "\n",
       "    .dataframe tbody tr th {\n",
       "        vertical-align: top;\n",
       "    }\n",
       "\n",
       "    .dataframe thead th {\n",
       "        text-align: right;\n",
       "    }\n",
       "</style>\n",
       "<table border=\"1\" class=\"dataframe\">\n",
       "  <thead>\n",
       "    <tr style=\"text-align: right;\">\n",
       "      <th></th>\n",
       "      <th>A</th>\n",
       "      <th>B</th>\n",
       "      <th>C</th>\n",
       "      <th>D</th>\n",
       "      <th>E</th>\n",
       "    </tr>\n",
       "  </thead>\n",
       "  <tbody>\n",
       "    <tr>\n",
       "      <th>2018-10-07</th>\n",
       "      <td>-0.426158</td>\n",
       "      <td>0.334526</td>\n",
       "      <td>0.947530</td>\n",
       "      <td>-0.900349</td>\n",
       "      <td>-0.530075</td>\n",
       "    </tr>\n",
       "    <tr>\n",
       "      <th>2018-10-08</th>\n",
       "      <td>1.071152</td>\n",
       "      <td>0.142507</td>\n",
       "      <td>0.669829</td>\n",
       "      <td>0.514144</td>\n",
       "      <td>0.185509</td>\n",
       "    </tr>\n",
       "  </tbody>\n",
       "</table>\n",
       "</div>"
      ],
      "text/plain": [
       "                   A         B         C         D         E\n",
       "2018-10-07 -0.426158  0.334526  0.947530 -0.900349 -0.530075\n",
       "2018-10-08  1.071152  0.142507  0.669829  0.514144  0.185509"
      ]
     },
     "execution_count": 59,
     "metadata": {},
     "output_type": "execute_result"
    }
   ],
   "source": [
    "df.tail(2)\n"
   ]
  },
  {
   "cell_type": "code",
   "execution_count": 60,
   "metadata": {},
   "outputs": [
    {
     "data": {
      "text/plain": [
       "array([[-1.21073279, -0.9506857 ,  1.12534036,  0.66127961, -1.68015665],\n",
       "       [-0.75682751,  0.02159884,  0.05871024, -0.439847  , -0.5704959 ],\n",
       "       [-0.35684018, -0.43960483, -0.60975344,  1.47734119, -0.52918179],\n",
       "       [ 0.4886204 ,  0.72526932, -0.02849415,  3.05456456, -0.12704681],\n",
       "       [-0.15999555, -1.37548159, -0.11879657, -0.83117533, -1.5338382 ],\n",
       "       [ 1.20826382,  1.80515783,  2.7031254 ,  1.32948649, -1.63253323],\n",
       "       [-0.42615841,  0.33452588,  0.94753034, -0.90034948, -0.5300748 ],\n",
       "       [ 1.07115183,  0.14250677,  0.6698287 ,  0.51414384,  0.18550945]])"
      ]
     },
     "execution_count": 60,
     "metadata": {},
     "output_type": "execute_result"
    }
   ],
   "source": [
    "df.values"
   ]
  },
  {
   "cell_type": "code",
   "execution_count": 62,
   "metadata": {},
   "outputs": [
    {
     "data": {
      "text/html": [
       "<div>\n",
       "<style scoped>\n",
       "    .dataframe tbody tr th:only-of-type {\n",
       "        vertical-align: middle;\n",
       "    }\n",
       "\n",
       "    .dataframe tbody tr th {\n",
       "        vertical-align: top;\n",
       "    }\n",
       "\n",
       "    .dataframe thead th {\n",
       "        text-align: right;\n",
       "    }\n",
       "</style>\n",
       "<table border=\"1\" class=\"dataframe\">\n",
       "  <thead>\n",
       "    <tr style=\"text-align: right;\">\n",
       "      <th></th>\n",
       "      <th>A</th>\n",
       "      <th>B</th>\n",
       "      <th>C</th>\n",
       "      <th>D</th>\n",
       "      <th>E</th>\n",
       "    </tr>\n",
       "  </thead>\n",
       "  <tbody>\n",
       "    <tr>\n",
       "      <th>count</th>\n",
       "      <td>8.000000</td>\n",
       "      <td>8.000000</td>\n",
       "      <td>8.000000</td>\n",
       "      <td>8.000000</td>\n",
       "      <td>8.000000</td>\n",
       "    </tr>\n",
       "    <tr>\n",
       "      <th>mean</th>\n",
       "      <td>-0.017815</td>\n",
       "      <td>0.032911</td>\n",
       "      <td>0.593436</td>\n",
       "      <td>0.608180</td>\n",
       "      <td>-0.802227</td>\n",
       "    </tr>\n",
       "    <tr>\n",
       "      <th>std</th>\n",
       "      <td>0.863273</td>\n",
       "      <td>0.992661</td>\n",
       "      <td>1.034587</td>\n",
       "      <td>1.347906</td>\n",
       "      <td>0.720043</td>\n",
       "    </tr>\n",
       "    <tr>\n",
       "      <th>min</th>\n",
       "      <td>-1.210733</td>\n",
       "      <td>-1.375482</td>\n",
       "      <td>-0.609753</td>\n",
       "      <td>-0.900349</td>\n",
       "      <td>-1.680157</td>\n",
       "    </tr>\n",
       "    <tr>\n",
       "      <th>25%</th>\n",
       "      <td>-0.508826</td>\n",
       "      <td>-0.567375</td>\n",
       "      <td>-0.051070</td>\n",
       "      <td>-0.537679</td>\n",
       "      <td>-1.558512</td>\n",
       "    </tr>\n",
       "    <tr>\n",
       "      <th>50%</th>\n",
       "      <td>-0.258418</td>\n",
       "      <td>0.082053</td>\n",
       "      <td>0.364269</td>\n",
       "      <td>0.587712</td>\n",
       "      <td>-0.550285</td>\n",
       "    </tr>\n",
       "    <tr>\n",
       "      <th>75%</th>\n",
       "      <td>0.634253</td>\n",
       "      <td>0.432212</td>\n",
       "      <td>0.991983</td>\n",
       "      <td>1.366450</td>\n",
       "      <td>-0.428648</td>\n",
       "    </tr>\n",
       "    <tr>\n",
       "      <th>max</th>\n",
       "      <td>1.208264</td>\n",
       "      <td>1.805158</td>\n",
       "      <td>2.703125</td>\n",
       "      <td>3.054565</td>\n",
       "      <td>0.185509</td>\n",
       "    </tr>\n",
       "  </tbody>\n",
       "</table>\n",
       "</div>"
      ],
      "text/plain": [
       "              A         B         C         D         E\n",
       "count  8.000000  8.000000  8.000000  8.000000  8.000000\n",
       "mean  -0.017815  0.032911  0.593436  0.608180 -0.802227\n",
       "std    0.863273  0.992661  1.034587  1.347906  0.720043\n",
       "min   -1.210733 -1.375482 -0.609753 -0.900349 -1.680157\n",
       "25%   -0.508826 -0.567375 -0.051070 -0.537679 -1.558512\n",
       "50%   -0.258418  0.082053  0.364269  0.587712 -0.550285\n",
       "75%    0.634253  0.432212  0.991983  1.366450 -0.428648\n",
       "max    1.208264  1.805158  2.703125  3.054565  0.185509"
      ]
     },
     "execution_count": 62,
     "metadata": {},
     "output_type": "execute_result"
    }
   ],
   "source": [
    "#shows a quick statistic summary of your data:\n",
    "df.describe()"
   ]
  },
  {
   "cell_type": "code",
   "execution_count": 55,
   "metadata": {},
   "outputs": [
    {
     "data": {
      "text/plain": [
       "DatetimeIndex(['2018-10-01', '2018-10-02', '2018-10-03', '2018-10-04',\n",
       "               '2018-10-05', '2018-10-06', '2018-10-07', '2018-10-08'],\n",
       "              dtype='datetime64[ns]', freq='D')"
      ]
     },
     "execution_count": 55,
     "metadata": {},
     "output_type": "execute_result"
    }
   ],
   "source": [
    "df.index"
   ]
  },
  {
   "cell_type": "code",
   "execution_count": 56,
   "metadata": {},
   "outputs": [
    {
     "data": {
      "text/plain": [
       "Index(['A', 'B', 'C', 'D', 'E'], dtype='object')"
      ]
     },
     "execution_count": 56,
     "metadata": {},
     "output_type": "execute_result"
    }
   ],
   "source": [
    "df.columns"
   ]
  },
  {
   "cell_type": "code",
   "execution_count": 66,
   "metadata": {},
   "outputs": [
    {
     "name": "stdout",
     "output_type": "stream",
     "text": [
      "data\n",
      "                   A         B         C         D         E\n",
      "2018-10-01 -1.210733 -0.950686  1.125340  0.661280 -1.680157\n",
      "2018-10-02 -0.756828  0.021599  0.058710 -0.439847 -0.570496\n",
      "2018-10-03 -0.356840 -0.439605 -0.609753  1.477341 -0.529182\n",
      "2018-10-04  0.488620  0.725269 -0.028494  3.054565 -0.127047\n",
      "2018-10-05 -0.159996 -1.375482 -0.118797 -0.831175 -1.533838\n",
      "2018-10-06  1.208264  1.805158  2.703125  1.329486 -1.632533\n",
      "2018-10-07 -0.426158  0.334526  0.947530 -0.900349 -0.530075\n",
      "2018-10-08  1.071152  0.142507  0.669829  0.514144  0.185509\n",
      "transpose\n",
      "   2018-10-01  2018-10-02  2018-10-03  2018-10-04  2018-10-05  2018-10-06  \\\n",
      "A   -1.210733   -0.756828   -0.356840    0.488620   -0.159996    1.208264   \n",
      "B   -0.950686    0.021599   -0.439605    0.725269   -1.375482    1.805158   \n",
      "C    1.125340    0.058710   -0.609753   -0.028494   -0.118797    2.703125   \n",
      "D    0.661280   -0.439847    1.477341    3.054565   -0.831175    1.329486   \n",
      "E   -1.680157   -0.570496   -0.529182   -0.127047   -1.533838   -1.632533   \n",
      "\n",
      "   2018-10-07  2018-10-08  \n",
      "A   -0.426158    1.071152  \n",
      "B    0.334526    0.142507  \n",
      "C    0.947530    0.669829  \n",
      "D   -0.900349    0.514144  \n",
      "E   -0.530075    0.185509  \n"
     ]
    }
   ],
   "source": [
    "#transposing your data\n",
    "print(\"data\")\n",
    "print(df)\n",
    "print(\"transpose\")\n",
    "print(df.T)"
   ]
  },
  {
   "cell_type": "code",
   "execution_count": 7,
   "metadata": {},
   "outputs": [
    {
     "data": {
      "text/html": [
       "<div>\n",
       "<style scoped>\n",
       "    .dataframe tbody tr th:only-of-type {\n",
       "        vertical-align: middle;\n",
       "    }\n",
       "\n",
       "    .dataframe tbody tr th {\n",
       "        vertical-align: top;\n",
       "    }\n",
       "\n",
       "    .dataframe thead th {\n",
       "        text-align: right;\n",
       "    }\n",
       "</style>\n",
       "<table border=\"1\" class=\"dataframe\">\n",
       "  <thead>\n",
       "    <tr style=\"text-align: right;\">\n",
       "      <th></th>\n",
       "      <th>E</th>\n",
       "      <th>D</th>\n",
       "      <th>C</th>\n",
       "      <th>B</th>\n",
       "      <th>A</th>\n",
       "    </tr>\n",
       "  </thead>\n",
       "  <tbody>\n",
       "    <tr>\n",
       "      <th>2018-10-01</th>\n",
       "      <td>-0.623510</td>\n",
       "      <td>-0.102619</td>\n",
       "      <td>-2.230571</td>\n",
       "      <td>0.439361</td>\n",
       "      <td>0.309720</td>\n",
       "    </tr>\n",
       "    <tr>\n",
       "      <th>2018-10-02</th>\n",
       "      <td>2.455655</td>\n",
       "      <td>0.293079</td>\n",
       "      <td>-0.520971</td>\n",
       "      <td>1.133279</td>\n",
       "      <td>-1.699139</td>\n",
       "    </tr>\n",
       "    <tr>\n",
       "      <th>2018-10-03</th>\n",
       "      <td>-0.067663</td>\n",
       "      <td>0.810192</td>\n",
       "      <td>-0.988437</td>\n",
       "      <td>0.908691</td>\n",
       "      <td>-1.290021</td>\n",
       "    </tr>\n",
       "    <tr>\n",
       "      <th>2018-10-04</th>\n",
       "      <td>0.889198</td>\n",
       "      <td>-0.254088</td>\n",
       "      <td>1.375957</td>\n",
       "      <td>-0.495209</td>\n",
       "      <td>-2.211808</td>\n",
       "    </tr>\n",
       "    <tr>\n",
       "      <th>2018-10-05</th>\n",
       "      <td>0.724817</td>\n",
       "      <td>0.944525</td>\n",
       "      <td>-1.615658</td>\n",
       "      <td>0.446930</td>\n",
       "      <td>-1.376816</td>\n",
       "    </tr>\n",
       "    <tr>\n",
       "      <th>2018-10-06</th>\n",
       "      <td>0.535717</td>\n",
       "      <td>1.451297</td>\n",
       "      <td>0.980284</td>\n",
       "      <td>-1.833822</td>\n",
       "      <td>0.958429</td>\n",
       "    </tr>\n",
       "    <tr>\n",
       "      <th>2018-10-07</th>\n",
       "      <td>-0.525602</td>\n",
       "      <td>1.145199</td>\n",
       "      <td>-0.617193</td>\n",
       "      <td>1.599790</td>\n",
       "      <td>1.485398</td>\n",
       "    </tr>\n",
       "    <tr>\n",
       "      <th>2018-10-08</th>\n",
       "      <td>-0.915387</td>\n",
       "      <td>0.221090</td>\n",
       "      <td>-0.225623</td>\n",
       "      <td>1.087046</td>\n",
       "      <td>-0.332500</td>\n",
       "    </tr>\n",
       "  </tbody>\n",
       "</table>\n",
       "</div>"
      ],
      "text/plain": [
       "                   E         D         C         B         A\n",
       "2018-10-01 -0.623510 -0.102619 -2.230571  0.439361  0.309720\n",
       "2018-10-02  2.455655  0.293079 -0.520971  1.133279 -1.699139\n",
       "2018-10-03 -0.067663  0.810192 -0.988437  0.908691 -1.290021\n",
       "2018-10-04  0.889198 -0.254088  1.375957 -0.495209 -2.211808\n",
       "2018-10-05  0.724817  0.944525 -1.615658  0.446930 -1.376816\n",
       "2018-10-06  0.535717  1.451297  0.980284 -1.833822  0.958429\n",
       "2018-10-07 -0.525602  1.145199 -0.617193  1.599790  1.485398\n",
       "2018-10-08 -0.915387  0.221090 -0.225623  1.087046 -0.332500"
      ]
     },
     "execution_count": 7,
     "metadata": {},
     "output_type": "execute_result"
    }
   ],
   "source": [
    "#Sorting by an axis\n",
    "df.sort_index(axis=1, ascending=False)"
   ]
  },
  {
   "cell_type": "code",
   "execution_count": 8,
   "metadata": {},
   "outputs": [
    {
     "data": {
      "text/html": [
       "<div>\n",
       "<style scoped>\n",
       "    .dataframe tbody tr th:only-of-type {\n",
       "        vertical-align: middle;\n",
       "    }\n",
       "\n",
       "    .dataframe tbody tr th {\n",
       "        vertical-align: top;\n",
       "    }\n",
       "\n",
       "    .dataframe thead th {\n",
       "        text-align: right;\n",
       "    }\n",
       "</style>\n",
       "<table border=\"1\" class=\"dataframe\">\n",
       "  <thead>\n",
       "    <tr style=\"text-align: right;\">\n",
       "      <th></th>\n",
       "      <th>A</th>\n",
       "      <th>B</th>\n",
       "      <th>C</th>\n",
       "      <th>D</th>\n",
       "      <th>E</th>\n",
       "    </tr>\n",
       "  </thead>\n",
       "  <tbody>\n",
       "    <tr>\n",
       "      <th>2018-10-04</th>\n",
       "      <td>-2.211808</td>\n",
       "      <td>-0.495209</td>\n",
       "      <td>1.375957</td>\n",
       "      <td>-0.254088</td>\n",
       "      <td>0.889198</td>\n",
       "    </tr>\n",
       "    <tr>\n",
       "      <th>2018-10-01</th>\n",
       "      <td>0.309720</td>\n",
       "      <td>0.439361</td>\n",
       "      <td>-2.230571</td>\n",
       "      <td>-0.102619</td>\n",
       "      <td>-0.623510</td>\n",
       "    </tr>\n",
       "    <tr>\n",
       "      <th>2018-10-08</th>\n",
       "      <td>-0.332500</td>\n",
       "      <td>1.087046</td>\n",
       "      <td>-0.225623</td>\n",
       "      <td>0.221090</td>\n",
       "      <td>-0.915387</td>\n",
       "    </tr>\n",
       "    <tr>\n",
       "      <th>2018-10-02</th>\n",
       "      <td>-1.699139</td>\n",
       "      <td>1.133279</td>\n",
       "      <td>-0.520971</td>\n",
       "      <td>0.293079</td>\n",
       "      <td>2.455655</td>\n",
       "    </tr>\n",
       "    <tr>\n",
       "      <th>2018-10-03</th>\n",
       "      <td>-1.290021</td>\n",
       "      <td>0.908691</td>\n",
       "      <td>-0.988437</td>\n",
       "      <td>0.810192</td>\n",
       "      <td>-0.067663</td>\n",
       "    </tr>\n",
       "    <tr>\n",
       "      <th>2018-10-05</th>\n",
       "      <td>-1.376816</td>\n",
       "      <td>0.446930</td>\n",
       "      <td>-1.615658</td>\n",
       "      <td>0.944525</td>\n",
       "      <td>0.724817</td>\n",
       "    </tr>\n",
       "    <tr>\n",
       "      <th>2018-10-07</th>\n",
       "      <td>1.485398</td>\n",
       "      <td>1.599790</td>\n",
       "      <td>-0.617193</td>\n",
       "      <td>1.145199</td>\n",
       "      <td>-0.525602</td>\n",
       "    </tr>\n",
       "    <tr>\n",
       "      <th>2018-10-06</th>\n",
       "      <td>0.958429</td>\n",
       "      <td>-1.833822</td>\n",
       "      <td>0.980284</td>\n",
       "      <td>1.451297</td>\n",
       "      <td>0.535717</td>\n",
       "    </tr>\n",
       "  </tbody>\n",
       "</table>\n",
       "</div>"
      ],
      "text/plain": [
       "                   A         B         C         D         E\n",
       "2018-10-04 -2.211808 -0.495209  1.375957 -0.254088  0.889198\n",
       "2018-10-01  0.309720  0.439361 -2.230571 -0.102619 -0.623510\n",
       "2018-10-08 -0.332500  1.087046 -0.225623  0.221090 -0.915387\n",
       "2018-10-02 -1.699139  1.133279 -0.520971  0.293079  2.455655\n",
       "2018-10-03 -1.290021  0.908691 -0.988437  0.810192 -0.067663\n",
       "2018-10-05 -1.376816  0.446930 -1.615658  0.944525  0.724817\n",
       "2018-10-07  1.485398  1.599790 -0.617193  1.145199 -0.525602\n",
       "2018-10-06  0.958429 -1.833822  0.980284  1.451297  0.535717"
      ]
     },
     "execution_count": 8,
     "metadata": {},
     "output_type": "execute_result"
    }
   ],
   "source": [
    "#sort by values\n",
    "df.sort_values(by='D')"
   ]
  },
  {
   "cell_type": "code",
   "execution_count": 67,
   "metadata": {},
   "outputs": [
    {
     "data": {
      "text/html": [
       "<div>\n",
       "<style scoped>\n",
       "    .dataframe tbody tr th:only-of-type {\n",
       "        vertical-align: middle;\n",
       "    }\n",
       "\n",
       "    .dataframe tbody tr th {\n",
       "        vertical-align: top;\n",
       "    }\n",
       "\n",
       "    .dataframe thead th {\n",
       "        text-align: right;\n",
       "    }\n",
       "</style>\n",
       "<table border=\"1\" class=\"dataframe\">\n",
       "  <thead>\n",
       "    <tr style=\"text-align: right;\">\n",
       "      <th></th>\n",
       "      <th>A</th>\n",
       "      <th>B</th>\n",
       "      <th>C</th>\n",
       "      <th>D</th>\n",
       "      <th>E</th>\n",
       "    </tr>\n",
       "  </thead>\n",
       "  <tbody>\n",
       "    <tr>\n",
       "      <th>0</th>\n",
       "      <td>hi</td>\n",
       "      <td>1</td>\n",
       "      <td>foo</td>\n",
       "      <td>2</td>\n",
       "      <td>1.454670</td>\n",
       "    </tr>\n",
       "    <tr>\n",
       "      <th>1</th>\n",
       "      <td>hi</td>\n",
       "      <td>1</td>\n",
       "      <td>foo</td>\n",
       "      <td>2</td>\n",
       "      <td>0.193066</td>\n",
       "    </tr>\n",
       "    <tr>\n",
       "      <th>2</th>\n",
       "      <td>hi</td>\n",
       "      <td>1</td>\n",
       "      <td>foo</td>\n",
       "      <td>2</td>\n",
       "      <td>-0.280443</td>\n",
       "    </tr>\n",
       "    <tr>\n",
       "      <th>3</th>\n",
       "      <td>hi</td>\n",
       "      <td>1</td>\n",
       "      <td>foo</td>\n",
       "      <td>2</td>\n",
       "      <td>0.515232</td>\n",
       "    </tr>\n",
       "  </tbody>\n",
       "</table>\n",
       "</div>"
      ],
      "text/plain": [
       "    A  B    C  D         E\n",
       "0  hi  1  foo  2  1.454670\n",
       "1  hi  1  foo  2  0.193066\n",
       "2  hi  1  foo  2 -0.280443\n",
       "3  hi  1  foo  2  0.515232"
      ]
     },
     "execution_count": 67,
     "metadata": {},
     "output_type": "execute_result"
    }
   ],
   "source": [
    "#Creating a DataFrame by passing a dict of objects. dictionary objects get converted to series-like.\n",
    "df1= pd.DataFrame({ 'A':'hi',\n",
    "                    'B':1,\n",
    "                    'C': 'foo',\n",
    "                    'D': np.array([2]*4),\n",
    "                    'E': pd.Series(np.random.randn(4),index=list(range(4)),dtype='float32')\n",
    "                  })\n",
    "df1"
   ]
  },
  {
   "cell_type": "code",
   "execution_count": 48,
   "metadata": {},
   "outputs": [
    {
     "data": {
      "text/plain": [
       "A     object\n",
       "B      int64\n",
       "C     object\n",
       "D      int64\n",
       "E    float32\n",
       "dtype: object"
      ]
     },
     "execution_count": 48,
     "metadata": {},
     "output_type": "execute_result"
    }
   ],
   "source": [
    "#data types of columns\n",
    "df1.dtypes"
   ]
  },
  {
   "cell_type": "code",
   "execution_count": 9,
   "metadata": {},
   "outputs": [
    {
     "data": {
      "text/plain": [
       "65"
      ]
     },
     "execution_count": 9,
     "metadata": {},
     "output_type": "execute_result"
    }
   ],
   "source": [
    "a_ascii = ord('A')\n",
    "a_ascii\n"
   ]
  },
  {
   "cell_type": "code",
   "execution_count": 12,
   "metadata": {},
   "outputs": [
    {
     "data": {
      "text/plain": [
       "['A',\n",
       " 'B',\n",
       " 'C',\n",
       " 'D',\n",
       " 'E',\n",
       " 'F',\n",
       " 'G',\n",
       " 'H',\n",
       " 'I',\n",
       " 'J',\n",
       " 'K',\n",
       " 'L',\n",
       " 'M',\n",
       " 'N',\n",
       " 'O',\n",
       " 'P',\n",
       " 'Q',\n",
       " 'R',\n",
       " 'S',\n",
       " 'T',\n",
       " 'U',\n",
       " 'V',\n",
       " 'W',\n",
       " 'X',\n",
       " 'Y',\n",
       " 'Z']"
      ]
     },
     "execution_count": 12,
     "metadata": {},
     "output_type": "execute_result"
    }
   ],
   "source": [
    "alpha = [chr(i) for i in range(a_ascii, a_ascii+26)]\n",
    "alpha"
   ]
  },
  {
   "cell_type": "markdown",
   "metadata": {},
   "source": []
  },
  {
   "cell_type": "code",
   "execution_count": 14,
   "metadata": {},
   "outputs": [
    {
     "data": {
      "text/plain": [
       "array([ 0,  1,  2,  3,  4,  5,  6,  7,  8,  9, 10, 11, 12, 13, 14, 15, 16,\n",
       "       17, 18, 19, 20, 21, 22, 23, 24, 25])"
      ]
     },
     "execution_count": 14,
     "metadata": {},
     "output_type": "execute_result"
    }
   ],
   "source": [
    "numbers= np.arange(26)\n",
    "numbers"
   ]
  },
  {
   "cell_type": "code",
   "execution_count": 17,
   "metadata": {},
   "outputs": [
    {
     "data": {
      "text/plain": [
       "numpy.ndarray"
      ]
     },
     "execution_count": 17,
     "metadata": {},
     "output_type": "execute_result"
    }
   ],
   "source": [
    "type(numbers)\n",
    "#type(alpha)"
   ]
  },
  {
   "cell_type": "code",
   "execution_count": 22,
   "metadata": {},
   "outputs": [
    {
     "data": {
      "text/plain": [
       "{0: 'A',\n",
       " 1: 'B',\n",
       " 2: 'C',\n",
       " 3: 'D',\n",
       " 4: 'E',\n",
       " 5: 'F',\n",
       " 6: 'G',\n",
       " 7: 'H',\n",
       " 8: 'I',\n",
       " 9: 'J',\n",
       " 10: 'K',\n",
       " 11: 'L',\n",
       " 12: 'M',\n",
       " 13: 'N',\n",
       " 14: 'O',\n",
       " 15: 'P',\n",
       " 16: 'Q',\n",
       " 17: 'R',\n",
       " 18: 'S',\n",
       " 19: 'T',\n",
       " 20: 'U',\n",
       " 21: 'V',\n",
       " 22: 'W',\n",
       " 23: 'X',\n",
       " 24: 'Y',\n",
       " 25: 'Z'}"
      ]
     },
     "execution_count": 22,
     "metadata": {},
     "output_type": "execute_result"
    }
   ],
   "source": [
    "alpha_num= dict(zip(numbers,alpha))\n",
    "#type(alpha_num)\n",
    "alpha_num"
   ]
  },
  {
   "cell_type": "code",
   "execution_count": null,
   "metadata": {},
   "outputs": [],
   "source": []
  }
 ],
 "metadata": {
  "kernelspec": {
   "display_name": "Python 3",
   "language": "python",
   "name": "python3"
  },
  "language_info": {
   "codemirror_mode": {
    "name": "ipython",
    "version": 3
   },
   "file_extension": ".py",
   "mimetype": "text/x-python",
   "name": "python",
   "nbconvert_exporter": "python",
   "pygments_lexer": "ipython3",
   "version": "3.6.5"
  }
 },
 "nbformat": 4,
 "nbformat_minor": 2
}

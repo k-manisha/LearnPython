{
 "cells": [
  {
   "cell_type": "code",
   "execution_count": 92,
   "metadata": {},
   "outputs": [],
   "source": [
    "import numpy as np\n",
    "import pandas as pd\n",
    "import matplotlib.pyplot as plt"
   ]
  },
  {
   "cell_type": "code",
   "execution_count": 93,
   "metadata": {},
   "outputs": [
    {
     "data": {
      "text/plain": [
       "0     1.0\n",
       "1     NaN\n",
       "2     3.0\n",
       "3     7.0\n",
       "4     9.0\n",
       "5    42.0\n",
       "dtype: float64"
      ]
     },
     "execution_count": 93,
     "metadata": {},
     "output_type": "execute_result"
    }
   ],
   "source": [
    "#creating series by passing a list. panda creates the default integer index\n",
    "pd.Series([1,np.nan,3,7,9, 42])"
   ]
  },
  {
   "cell_type": "code",
   "execution_count": 94,
   "metadata": {},
   "outputs": [
    {
     "name": "stdout",
     "output_type": "stream",
     "text": [
      "DatetimeIndex(['2018-10-01', '2018-10-02', '2018-10-03', '2018-10-04',\n",
      "               '2018-10-05', '2018-10-06', '2018-10-07', '2018-10-08'],\n",
      "              dtype='datetime64[ns]', freq='D')\n",
      "<class 'pandas.core.indexes.datetimes.DatetimeIndex'>\n"
     ]
    }
   ],
   "source": [
    "#creating DataFrame by NumPy with dates as index and labeled columns\n",
    "dates = pd.date_range('20181001', periods=8)\n",
    "print(dates)\n",
    "print(type(dates))"
   ]
  },
  {
   "cell_type": "code",
   "execution_count": 95,
   "metadata": {},
   "outputs": [
    {
     "data": {
      "text/html": [
       "<div>\n",
       "<style scoped>\n",
       "    .dataframe tbody tr th:only-of-type {\n",
       "        vertical-align: middle;\n",
       "    }\n",
       "\n",
       "    .dataframe tbody tr th {\n",
       "        vertical-align: top;\n",
       "    }\n",
       "\n",
       "    .dataframe thead th {\n",
       "        text-align: right;\n",
       "    }\n",
       "</style>\n",
       "<table border=\"1\" class=\"dataframe\">\n",
       "  <thead>\n",
       "    <tr style=\"text-align: right;\">\n",
       "      <th></th>\n",
       "      <th>A</th>\n",
       "      <th>B</th>\n",
       "      <th>C</th>\n",
       "      <th>D</th>\n",
       "      <th>E</th>\n",
       "    </tr>\n",
       "  </thead>\n",
       "  <tbody>\n",
       "    <tr>\n",
       "      <th>2018-10-01</th>\n",
       "      <td>1.222231</td>\n",
       "      <td>0.331885</td>\n",
       "      <td>0.515486</td>\n",
       "      <td>-0.879656</td>\n",
       "      <td>1.114148</td>\n",
       "    </tr>\n",
       "    <tr>\n",
       "      <th>2018-10-02</th>\n",
       "      <td>-0.338805</td>\n",
       "      <td>0.543087</td>\n",
       "      <td>-1.956426</td>\n",
       "      <td>-1.705472</td>\n",
       "      <td>0.295164</td>\n",
       "    </tr>\n",
       "    <tr>\n",
       "      <th>2018-10-03</th>\n",
       "      <td>-0.788798</td>\n",
       "      <td>1.684057</td>\n",
       "      <td>-0.030216</td>\n",
       "      <td>-1.505458</td>\n",
       "      <td>0.283767</td>\n",
       "    </tr>\n",
       "    <tr>\n",
       "      <th>2018-10-04</th>\n",
       "      <td>-1.940553</td>\n",
       "      <td>-0.465528</td>\n",
       "      <td>-1.056533</td>\n",
       "      <td>0.270076</td>\n",
       "      <td>0.348822</td>\n",
       "    </tr>\n",
       "    <tr>\n",
       "      <th>2018-10-05</th>\n",
       "      <td>1.149059</td>\n",
       "      <td>0.959669</td>\n",
       "      <td>0.372954</td>\n",
       "      <td>-2.310132</td>\n",
       "      <td>0.583047</td>\n",
       "    </tr>\n",
       "    <tr>\n",
       "      <th>2018-10-06</th>\n",
       "      <td>0.405757</td>\n",
       "      <td>-1.175372</td>\n",
       "      <td>1.125563</td>\n",
       "      <td>-0.072352</td>\n",
       "      <td>-1.201452</td>\n",
       "    </tr>\n",
       "    <tr>\n",
       "      <th>2018-10-07</th>\n",
       "      <td>-0.071780</td>\n",
       "      <td>1.103094</td>\n",
       "      <td>0.655575</td>\n",
       "      <td>-0.586446</td>\n",
       "      <td>-1.538508</td>\n",
       "    </tr>\n",
       "    <tr>\n",
       "      <th>2018-10-08</th>\n",
       "      <td>-1.642539</td>\n",
       "      <td>-0.015005</td>\n",
       "      <td>-0.196583</td>\n",
       "      <td>-0.433937</td>\n",
       "      <td>1.623610</td>\n",
       "    </tr>\n",
       "  </tbody>\n",
       "</table>\n",
       "</div>"
      ],
      "text/plain": [
       "                   A         B         C         D         E\n",
       "2018-10-01  1.222231  0.331885  0.515486 -0.879656  1.114148\n",
       "2018-10-02 -0.338805  0.543087 -1.956426 -1.705472  0.295164\n",
       "2018-10-03 -0.788798  1.684057 -0.030216 -1.505458  0.283767\n",
       "2018-10-04 -1.940553 -0.465528 -1.056533  0.270076  0.348822\n",
       "2018-10-05  1.149059  0.959669  0.372954 -2.310132  0.583047\n",
       "2018-10-06  0.405757 -1.175372  1.125563 -0.072352 -1.201452\n",
       "2018-10-07 -0.071780  1.103094  0.655575 -0.586446 -1.538508\n",
       "2018-10-08 -1.642539 -0.015005 -0.196583 -0.433937  1.623610"
      ]
     },
     "execution_count": 95,
     "metadata": {},
     "output_type": "execute_result"
    }
   ],
   "source": [
    "df=pd.DataFrame(np.random.randn(8,5), index=dates, columns=list('ABCDE'))\n",
    "df"
   ]
  },
  {
   "cell_type": "code",
   "execution_count": 96,
   "metadata": {},
   "outputs": [
    {
     "data": {
      "text/html": [
       "<div>\n",
       "<style scoped>\n",
       "    .dataframe tbody tr th:only-of-type {\n",
       "        vertical-align: middle;\n",
       "    }\n",
       "\n",
       "    .dataframe tbody tr th {\n",
       "        vertical-align: top;\n",
       "    }\n",
       "\n",
       "    .dataframe thead th {\n",
       "        text-align: right;\n",
       "    }\n",
       "</style>\n",
       "<table border=\"1\" class=\"dataframe\">\n",
       "  <thead>\n",
       "    <tr style=\"text-align: right;\">\n",
       "      <th></th>\n",
       "      <th>A</th>\n",
       "      <th>B</th>\n",
       "      <th>C</th>\n",
       "      <th>D</th>\n",
       "      <th>E</th>\n",
       "    </tr>\n",
       "  </thead>\n",
       "  <tbody>\n",
       "    <tr>\n",
       "      <th>2018-10-01</th>\n",
       "      <td>1.222231</td>\n",
       "      <td>0.331885</td>\n",
       "      <td>0.515486</td>\n",
       "      <td>-0.879656</td>\n",
       "      <td>1.114148</td>\n",
       "    </tr>\n",
       "    <tr>\n",
       "      <th>2018-10-02</th>\n",
       "      <td>-0.338805</td>\n",
       "      <td>0.543087</td>\n",
       "      <td>-1.956426</td>\n",
       "      <td>-1.705472</td>\n",
       "      <td>0.295164</td>\n",
       "    </tr>\n",
       "    <tr>\n",
       "      <th>2018-10-03</th>\n",
       "      <td>-0.788798</td>\n",
       "      <td>1.684057</td>\n",
       "      <td>-0.030216</td>\n",
       "      <td>-1.505458</td>\n",
       "      <td>0.283767</td>\n",
       "    </tr>\n",
       "    <tr>\n",
       "      <th>2018-10-04</th>\n",
       "      <td>-1.940553</td>\n",
       "      <td>-0.465528</td>\n",
       "      <td>-1.056533</td>\n",
       "      <td>0.270076</td>\n",
       "      <td>0.348822</td>\n",
       "    </tr>\n",
       "    <tr>\n",
       "      <th>2018-10-05</th>\n",
       "      <td>1.149059</td>\n",
       "      <td>0.959669</td>\n",
       "      <td>0.372954</td>\n",
       "      <td>-2.310132</td>\n",
       "      <td>0.583047</td>\n",
       "    </tr>\n",
       "  </tbody>\n",
       "</table>\n",
       "</div>"
      ],
      "text/plain": [
       "                   A         B         C         D         E\n",
       "2018-10-01  1.222231  0.331885  0.515486 -0.879656  1.114148\n",
       "2018-10-02 -0.338805  0.543087 -1.956426 -1.705472  0.295164\n",
       "2018-10-03 -0.788798  1.684057 -0.030216 -1.505458  0.283767\n",
       "2018-10-04 -1.940553 -0.465528 -1.056533  0.270076  0.348822\n",
       "2018-10-05  1.149059  0.959669  0.372954 -2.310132  0.583047"
      ]
     },
     "execution_count": 96,
     "metadata": {},
     "output_type": "execute_result"
    }
   ],
   "source": [
    "#viewing data\n",
    "df.head()"
   ]
  },
  {
   "cell_type": "code",
   "execution_count": 97,
   "metadata": {},
   "outputs": [
    {
     "data": {
      "text/html": [
       "<div>\n",
       "<style scoped>\n",
       "    .dataframe tbody tr th:only-of-type {\n",
       "        vertical-align: middle;\n",
       "    }\n",
       "\n",
       "    .dataframe tbody tr th {\n",
       "        vertical-align: top;\n",
       "    }\n",
       "\n",
       "    .dataframe thead th {\n",
       "        text-align: right;\n",
       "    }\n",
       "</style>\n",
       "<table border=\"1\" class=\"dataframe\">\n",
       "  <thead>\n",
       "    <tr style=\"text-align: right;\">\n",
       "      <th></th>\n",
       "      <th>A</th>\n",
       "      <th>B</th>\n",
       "      <th>C</th>\n",
       "      <th>D</th>\n",
       "      <th>E</th>\n",
       "    </tr>\n",
       "  </thead>\n",
       "  <tbody>\n",
       "    <tr>\n",
       "      <th>2018-10-07</th>\n",
       "      <td>-0.071780</td>\n",
       "      <td>1.103094</td>\n",
       "      <td>0.655575</td>\n",
       "      <td>-0.586446</td>\n",
       "      <td>-1.538508</td>\n",
       "    </tr>\n",
       "    <tr>\n",
       "      <th>2018-10-08</th>\n",
       "      <td>-1.642539</td>\n",
       "      <td>-0.015005</td>\n",
       "      <td>-0.196583</td>\n",
       "      <td>-0.433937</td>\n",
       "      <td>1.623610</td>\n",
       "    </tr>\n",
       "  </tbody>\n",
       "</table>\n",
       "</div>"
      ],
      "text/plain": [
       "                   A         B         C         D         E\n",
       "2018-10-07 -0.071780  1.103094  0.655575 -0.586446 -1.538508\n",
       "2018-10-08 -1.642539 -0.015005 -0.196583 -0.433937  1.623610"
      ]
     },
     "execution_count": 97,
     "metadata": {},
     "output_type": "execute_result"
    }
   ],
   "source": [
    "df.tail(2)\n"
   ]
  },
  {
   "cell_type": "code",
   "execution_count": 98,
   "metadata": {},
   "outputs": [
    {
     "data": {
      "text/plain": [
       "array([[ 1.2222307 ,  0.33188493,  0.51548591, -0.87965622,  1.11414815],\n",
       "       [-0.33880507,  0.54308703, -1.95642604, -1.70547231,  0.29516445],\n",
       "       [-0.78879816,  1.68405666, -0.03021632, -1.50545839,  0.28376657],\n",
       "       [-1.94055301, -0.46552804, -1.05653319,  0.27007625,  0.34882223],\n",
       "       [ 1.14905938,  0.95966943,  0.37295387, -2.31013247,  0.58304719],\n",
       "       [ 0.40575733, -1.17537198,  1.12556329, -0.07235201, -1.20145209],\n",
       "       [-0.07178023,  1.10309352,  0.65557498, -0.58644606, -1.53850754],\n",
       "       [-1.64253911, -0.01500533, -0.19658263, -0.43393656,  1.62360987]])"
      ]
     },
     "execution_count": 98,
     "metadata": {},
     "output_type": "execute_result"
    }
   ],
   "source": [
    "df.values"
   ]
  },
  {
   "cell_type": "code",
   "execution_count": 99,
   "metadata": {},
   "outputs": [
    {
     "data": {
      "text/html": [
       "<div>\n",
       "<style scoped>\n",
       "    .dataframe tbody tr th:only-of-type {\n",
       "        vertical-align: middle;\n",
       "    }\n",
       "\n",
       "    .dataframe tbody tr th {\n",
       "        vertical-align: top;\n",
       "    }\n",
       "\n",
       "    .dataframe thead th {\n",
       "        text-align: right;\n",
       "    }\n",
       "</style>\n",
       "<table border=\"1\" class=\"dataframe\">\n",
       "  <thead>\n",
       "    <tr style=\"text-align: right;\">\n",
       "      <th></th>\n",
       "      <th>A</th>\n",
       "      <th>B</th>\n",
       "      <th>C</th>\n",
       "      <th>D</th>\n",
       "      <th>E</th>\n",
       "    </tr>\n",
       "  </thead>\n",
       "  <tbody>\n",
       "    <tr>\n",
       "      <th>count</th>\n",
       "      <td>8.000000</td>\n",
       "      <td>8.000000</td>\n",
       "      <td>8.000000</td>\n",
       "      <td>8.000000</td>\n",
       "      <td>8.000000</td>\n",
       "    </tr>\n",
       "    <tr>\n",
       "      <th>mean</th>\n",
       "      <td>-0.250679</td>\n",
       "      <td>0.370736</td>\n",
       "      <td>-0.071273</td>\n",
       "      <td>-0.902922</td>\n",
       "      <td>0.188575</td>\n",
       "    </tr>\n",
       "    <tr>\n",
       "      <th>std</th>\n",
       "      <td>1.176067</td>\n",
       "      <td>0.916344</td>\n",
       "      <td>1.003158</td>\n",
       "      <td>0.876176</td>\n",
       "      <td>1.071228</td>\n",
       "    </tr>\n",
       "    <tr>\n",
       "      <th>min</th>\n",
       "      <td>-1.940553</td>\n",
       "      <td>-1.175372</td>\n",
       "      <td>-1.956426</td>\n",
       "      <td>-2.310132</td>\n",
       "      <td>-1.538508</td>\n",
       "    </tr>\n",
       "    <tr>\n",
       "      <th>25%</th>\n",
       "      <td>-1.002233</td>\n",
       "      <td>-0.127636</td>\n",
       "      <td>-0.411570</td>\n",
       "      <td>-1.555462</td>\n",
       "      <td>-0.087538</td>\n",
       "    </tr>\n",
       "    <tr>\n",
       "      <th>50%</th>\n",
       "      <td>-0.205293</td>\n",
       "      <td>0.437486</td>\n",
       "      <td>0.171369</td>\n",
       "      <td>-0.733051</td>\n",
       "      <td>0.321993</td>\n",
       "    </tr>\n",
       "    <tr>\n",
       "      <th>75%</th>\n",
       "      <td>0.591583</td>\n",
       "      <td>0.995525</td>\n",
       "      <td>0.550508</td>\n",
       "      <td>-0.343540</td>\n",
       "      <td>0.715822</td>\n",
       "    </tr>\n",
       "    <tr>\n",
       "      <th>max</th>\n",
       "      <td>1.222231</td>\n",
       "      <td>1.684057</td>\n",
       "      <td>1.125563</td>\n",
       "      <td>0.270076</td>\n",
       "      <td>1.623610</td>\n",
       "    </tr>\n",
       "  </tbody>\n",
       "</table>\n",
       "</div>"
      ],
      "text/plain": [
       "              A         B         C         D         E\n",
       "count  8.000000  8.000000  8.000000  8.000000  8.000000\n",
       "mean  -0.250679  0.370736 -0.071273 -0.902922  0.188575\n",
       "std    1.176067  0.916344  1.003158  0.876176  1.071228\n",
       "min   -1.940553 -1.175372 -1.956426 -2.310132 -1.538508\n",
       "25%   -1.002233 -0.127636 -0.411570 -1.555462 -0.087538\n",
       "50%   -0.205293  0.437486  0.171369 -0.733051  0.321993\n",
       "75%    0.591583  0.995525  0.550508 -0.343540  0.715822\n",
       "max    1.222231  1.684057  1.125563  0.270076  1.623610"
      ]
     },
     "execution_count": 99,
     "metadata": {},
     "output_type": "execute_result"
    }
   ],
   "source": [
    "#shows a quick statistic summary of your data:\n",
    "df.describe()"
   ]
  },
  {
   "cell_type": "code",
   "execution_count": 100,
   "metadata": {},
   "outputs": [
    {
     "data": {
      "text/plain": [
       "DatetimeIndex(['2018-10-01', '2018-10-02', '2018-10-03', '2018-10-04',\n",
       "               '2018-10-05', '2018-10-06', '2018-10-07', '2018-10-08'],\n",
       "              dtype='datetime64[ns]', freq='D')"
      ]
     },
     "execution_count": 100,
     "metadata": {},
     "output_type": "execute_result"
    }
   ],
   "source": [
    "df.index"
   ]
  },
  {
   "cell_type": "code",
   "execution_count": 101,
   "metadata": {},
   "outputs": [
    {
     "data": {
      "text/plain": [
       "Index(['A', 'B', 'C', 'D', 'E'], dtype='object')"
      ]
     },
     "execution_count": 101,
     "metadata": {},
     "output_type": "execute_result"
    }
   ],
   "source": [
    "df.columns"
   ]
  },
  {
   "cell_type": "code",
   "execution_count": 102,
   "metadata": {},
   "outputs": [
    {
     "name": "stdout",
     "output_type": "stream",
     "text": [
      "data\n",
      "                   A         B         C         D         E\n",
      "2018-10-01  1.222231  0.331885  0.515486 -0.879656  1.114148\n",
      "2018-10-02 -0.338805  0.543087 -1.956426 -1.705472  0.295164\n",
      "2018-10-03 -0.788798  1.684057 -0.030216 -1.505458  0.283767\n",
      "2018-10-04 -1.940553 -0.465528 -1.056533  0.270076  0.348822\n",
      "2018-10-05  1.149059  0.959669  0.372954 -2.310132  0.583047\n",
      "2018-10-06  0.405757 -1.175372  1.125563 -0.072352 -1.201452\n",
      "2018-10-07 -0.071780  1.103094  0.655575 -0.586446 -1.538508\n",
      "2018-10-08 -1.642539 -0.015005 -0.196583 -0.433937  1.623610\n",
      "transpose\n",
      "   2018-10-01  2018-10-02  2018-10-03  2018-10-04  2018-10-05  2018-10-06  \\\n",
      "A    1.222231   -0.338805   -0.788798   -1.940553    1.149059    0.405757   \n",
      "B    0.331885    0.543087    1.684057   -0.465528    0.959669   -1.175372   \n",
      "C    0.515486   -1.956426   -0.030216   -1.056533    0.372954    1.125563   \n",
      "D   -0.879656   -1.705472   -1.505458    0.270076   -2.310132   -0.072352   \n",
      "E    1.114148    0.295164    0.283767    0.348822    0.583047   -1.201452   \n",
      "\n",
      "   2018-10-07  2018-10-08  \n",
      "A   -0.071780   -1.642539  \n",
      "B    1.103094   -0.015005  \n",
      "C    0.655575   -0.196583  \n",
      "D   -0.586446   -0.433937  \n",
      "E   -1.538508    1.623610  \n"
     ]
    }
   ],
   "source": [
    "#transposing your data\n",
    "print(\"data\")\n",
    "print(df)\n",
    "print(\"transpose\")\n",
    "print(df.T)"
   ]
  },
  {
   "cell_type": "code",
   "execution_count": 103,
   "metadata": {},
   "outputs": [
    {
     "data": {
      "text/html": [
       "<div>\n",
       "<style scoped>\n",
       "    .dataframe tbody tr th:only-of-type {\n",
       "        vertical-align: middle;\n",
       "    }\n",
       "\n",
       "    .dataframe tbody tr th {\n",
       "        vertical-align: top;\n",
       "    }\n",
       "\n",
       "    .dataframe thead th {\n",
       "        text-align: right;\n",
       "    }\n",
       "</style>\n",
       "<table border=\"1\" class=\"dataframe\">\n",
       "  <thead>\n",
       "    <tr style=\"text-align: right;\">\n",
       "      <th></th>\n",
       "      <th>E</th>\n",
       "      <th>D</th>\n",
       "      <th>C</th>\n",
       "      <th>B</th>\n",
       "      <th>A</th>\n",
       "    </tr>\n",
       "  </thead>\n",
       "  <tbody>\n",
       "    <tr>\n",
       "      <th>2018-10-01</th>\n",
       "      <td>1.114148</td>\n",
       "      <td>-0.879656</td>\n",
       "      <td>0.515486</td>\n",
       "      <td>0.331885</td>\n",
       "      <td>1.222231</td>\n",
       "    </tr>\n",
       "    <tr>\n",
       "      <th>2018-10-02</th>\n",
       "      <td>0.295164</td>\n",
       "      <td>-1.705472</td>\n",
       "      <td>-1.956426</td>\n",
       "      <td>0.543087</td>\n",
       "      <td>-0.338805</td>\n",
       "    </tr>\n",
       "    <tr>\n",
       "      <th>2018-10-03</th>\n",
       "      <td>0.283767</td>\n",
       "      <td>-1.505458</td>\n",
       "      <td>-0.030216</td>\n",
       "      <td>1.684057</td>\n",
       "      <td>-0.788798</td>\n",
       "    </tr>\n",
       "    <tr>\n",
       "      <th>2018-10-04</th>\n",
       "      <td>0.348822</td>\n",
       "      <td>0.270076</td>\n",
       "      <td>-1.056533</td>\n",
       "      <td>-0.465528</td>\n",
       "      <td>-1.940553</td>\n",
       "    </tr>\n",
       "    <tr>\n",
       "      <th>2018-10-05</th>\n",
       "      <td>0.583047</td>\n",
       "      <td>-2.310132</td>\n",
       "      <td>0.372954</td>\n",
       "      <td>0.959669</td>\n",
       "      <td>1.149059</td>\n",
       "    </tr>\n",
       "    <tr>\n",
       "      <th>2018-10-06</th>\n",
       "      <td>-1.201452</td>\n",
       "      <td>-0.072352</td>\n",
       "      <td>1.125563</td>\n",
       "      <td>-1.175372</td>\n",
       "      <td>0.405757</td>\n",
       "    </tr>\n",
       "    <tr>\n",
       "      <th>2018-10-07</th>\n",
       "      <td>-1.538508</td>\n",
       "      <td>-0.586446</td>\n",
       "      <td>0.655575</td>\n",
       "      <td>1.103094</td>\n",
       "      <td>-0.071780</td>\n",
       "    </tr>\n",
       "    <tr>\n",
       "      <th>2018-10-08</th>\n",
       "      <td>1.623610</td>\n",
       "      <td>-0.433937</td>\n",
       "      <td>-0.196583</td>\n",
       "      <td>-0.015005</td>\n",
       "      <td>-1.642539</td>\n",
       "    </tr>\n",
       "  </tbody>\n",
       "</table>\n",
       "</div>"
      ],
      "text/plain": [
       "                   E         D         C         B         A\n",
       "2018-10-01  1.114148 -0.879656  0.515486  0.331885  1.222231\n",
       "2018-10-02  0.295164 -1.705472 -1.956426  0.543087 -0.338805\n",
       "2018-10-03  0.283767 -1.505458 -0.030216  1.684057 -0.788798\n",
       "2018-10-04  0.348822  0.270076 -1.056533 -0.465528 -1.940553\n",
       "2018-10-05  0.583047 -2.310132  0.372954  0.959669  1.149059\n",
       "2018-10-06 -1.201452 -0.072352  1.125563 -1.175372  0.405757\n",
       "2018-10-07 -1.538508 -0.586446  0.655575  1.103094 -0.071780\n",
       "2018-10-08  1.623610 -0.433937 -0.196583 -0.015005 -1.642539"
      ]
     },
     "execution_count": 103,
     "metadata": {},
     "output_type": "execute_result"
    }
   ],
   "source": [
    "#Sorting by an axis\n",
    "df.sort_index(axis=1, ascending=False)"
   ]
  },
  {
   "cell_type": "code",
   "execution_count": 104,
   "metadata": {},
   "outputs": [
    {
     "data": {
      "text/html": [
       "<div>\n",
       "<style scoped>\n",
       "    .dataframe tbody tr th:only-of-type {\n",
       "        vertical-align: middle;\n",
       "    }\n",
       "\n",
       "    .dataframe tbody tr th {\n",
       "        vertical-align: top;\n",
       "    }\n",
       "\n",
       "    .dataframe thead th {\n",
       "        text-align: right;\n",
       "    }\n",
       "</style>\n",
       "<table border=\"1\" class=\"dataframe\">\n",
       "  <thead>\n",
       "    <tr style=\"text-align: right;\">\n",
       "      <th></th>\n",
       "      <th>A</th>\n",
       "      <th>B</th>\n",
       "      <th>C</th>\n",
       "      <th>D</th>\n",
       "      <th>E</th>\n",
       "    </tr>\n",
       "  </thead>\n",
       "  <tbody>\n",
       "    <tr>\n",
       "      <th>2018-10-05</th>\n",
       "      <td>1.149059</td>\n",
       "      <td>0.959669</td>\n",
       "      <td>0.372954</td>\n",
       "      <td>-2.310132</td>\n",
       "      <td>0.583047</td>\n",
       "    </tr>\n",
       "    <tr>\n",
       "      <th>2018-10-02</th>\n",
       "      <td>-0.338805</td>\n",
       "      <td>0.543087</td>\n",
       "      <td>-1.956426</td>\n",
       "      <td>-1.705472</td>\n",
       "      <td>0.295164</td>\n",
       "    </tr>\n",
       "    <tr>\n",
       "      <th>2018-10-03</th>\n",
       "      <td>-0.788798</td>\n",
       "      <td>1.684057</td>\n",
       "      <td>-0.030216</td>\n",
       "      <td>-1.505458</td>\n",
       "      <td>0.283767</td>\n",
       "    </tr>\n",
       "    <tr>\n",
       "      <th>2018-10-01</th>\n",
       "      <td>1.222231</td>\n",
       "      <td>0.331885</td>\n",
       "      <td>0.515486</td>\n",
       "      <td>-0.879656</td>\n",
       "      <td>1.114148</td>\n",
       "    </tr>\n",
       "    <tr>\n",
       "      <th>2018-10-07</th>\n",
       "      <td>-0.071780</td>\n",
       "      <td>1.103094</td>\n",
       "      <td>0.655575</td>\n",
       "      <td>-0.586446</td>\n",
       "      <td>-1.538508</td>\n",
       "    </tr>\n",
       "    <tr>\n",
       "      <th>2018-10-08</th>\n",
       "      <td>-1.642539</td>\n",
       "      <td>-0.015005</td>\n",
       "      <td>-0.196583</td>\n",
       "      <td>-0.433937</td>\n",
       "      <td>1.623610</td>\n",
       "    </tr>\n",
       "    <tr>\n",
       "      <th>2018-10-06</th>\n",
       "      <td>0.405757</td>\n",
       "      <td>-1.175372</td>\n",
       "      <td>1.125563</td>\n",
       "      <td>-0.072352</td>\n",
       "      <td>-1.201452</td>\n",
       "    </tr>\n",
       "    <tr>\n",
       "      <th>2018-10-04</th>\n",
       "      <td>-1.940553</td>\n",
       "      <td>-0.465528</td>\n",
       "      <td>-1.056533</td>\n",
       "      <td>0.270076</td>\n",
       "      <td>0.348822</td>\n",
       "    </tr>\n",
       "  </tbody>\n",
       "</table>\n",
       "</div>"
      ],
      "text/plain": [
       "                   A         B         C         D         E\n",
       "2018-10-05  1.149059  0.959669  0.372954 -2.310132  0.583047\n",
       "2018-10-02 -0.338805  0.543087 -1.956426 -1.705472  0.295164\n",
       "2018-10-03 -0.788798  1.684057 -0.030216 -1.505458  0.283767\n",
       "2018-10-01  1.222231  0.331885  0.515486 -0.879656  1.114148\n",
       "2018-10-07 -0.071780  1.103094  0.655575 -0.586446 -1.538508\n",
       "2018-10-08 -1.642539 -0.015005 -0.196583 -0.433937  1.623610\n",
       "2018-10-06  0.405757 -1.175372  1.125563 -0.072352 -1.201452\n",
       "2018-10-04 -1.940553 -0.465528 -1.056533  0.270076  0.348822"
      ]
     },
     "execution_count": 104,
     "metadata": {},
     "output_type": "execute_result"
    }
   ],
   "source": [
    "#sort by values\n",
    "df.sort_values(by='D')"
   ]
  },
  {
   "cell_type": "code",
   "execution_count": 208,
   "metadata": {},
   "outputs": [
    {
     "data": {
      "text/html": [
       "<div>\n",
       "<style scoped>\n",
       "    .dataframe tbody tr th:only-of-type {\n",
       "        vertical-align: middle;\n",
       "    }\n",
       "\n",
       "    .dataframe tbody tr th {\n",
       "        vertical-align: top;\n",
       "    }\n",
       "\n",
       "    .dataframe thead th {\n",
       "        text-align: right;\n",
       "    }\n",
       "</style>\n",
       "<table border=\"1\" class=\"dataframe\">\n",
       "  <thead>\n",
       "    <tr style=\"text-align: right;\">\n",
       "      <th></th>\n",
       "      <th>A</th>\n",
       "      <th>B</th>\n",
       "      <th>C</th>\n",
       "      <th>D</th>\n",
       "      <th>E</th>\n",
       "    </tr>\n",
       "  </thead>\n",
       "  <tbody>\n",
       "    <tr>\n",
       "      <th>0</th>\n",
       "      <td>hi</td>\n",
       "      <td>1</td>\n",
       "      <td>foo</td>\n",
       "      <td>2</td>\n",
       "      <td>2.0</td>\n",
       "    </tr>\n",
       "    <tr>\n",
       "      <th>1</th>\n",
       "      <td>hi</td>\n",
       "      <td>1</td>\n",
       "      <td>foo</td>\n",
       "      <td>2</td>\n",
       "      <td>2.0</td>\n",
       "    </tr>\n",
       "    <tr>\n",
       "      <th>2</th>\n",
       "      <td>hi</td>\n",
       "      <td>1</td>\n",
       "      <td>foo</td>\n",
       "      <td>2</td>\n",
       "      <td>2.0</td>\n",
       "    </tr>\n",
       "    <tr>\n",
       "      <th>3</th>\n",
       "      <td>hi</td>\n",
       "      <td>1</td>\n",
       "      <td>foo</td>\n",
       "      <td>2</td>\n",
       "      <td>1.0</td>\n",
       "    </tr>\n",
       "  </tbody>\n",
       "</table>\n",
       "</div>"
      ],
      "text/plain": [
       "    A  B    C  D    E\n",
       "0  hi  1  foo  2  2.0\n",
       "1  hi  1  foo  2  2.0\n",
       "2  hi  1  foo  2  2.0\n",
       "3  hi  1  foo  2  1.0"
      ]
     },
     "execution_count": 208,
     "metadata": {},
     "output_type": "execute_result"
    }
   ],
   "source": [
    "#Creating a DataFrame by passing a dict of objects. dictionary objects get converted to series-like.\n",
    "df1= pd.DataFrame({ 'A':'hi',\n",
    "                    'B':1,\n",
    "                    'C': 'foo',\n",
    "                    'D': np.array([2]*4),\n",
    "                    'E': pd.Series(np.random.randint(1,4,4),index=list(range(4)),dtype='float32')\n",
    "                  })\n",
    "df1"
   ]
  },
  {
   "cell_type": "code",
   "execution_count": 106,
   "metadata": {},
   "outputs": [
    {
     "data": {
      "text/plain": [
       "A     object\n",
       "B      int64\n",
       "C     object\n",
       "D      int64\n",
       "E    float32\n",
       "dtype: object"
      ]
     },
     "execution_count": 106,
     "metadata": {},
     "output_type": "execute_result"
    }
   ],
   "source": [
    "#data types of columns\n",
    "df1.dtypes"
   ]
  },
  {
   "cell_type": "code",
   "execution_count": 107,
   "metadata": {},
   "outputs": [
    {
     "data": {
      "text/plain": [
       "65"
      ]
     },
     "execution_count": 107,
     "metadata": {},
     "output_type": "execute_result"
    }
   ],
   "source": [
    "a_ascii = ord('A')\n",
    "a_ascii"
   ]
  },
  {
   "cell_type": "code",
   "execution_count": 108,
   "metadata": {},
   "outputs": [
    {
     "data": {
      "text/plain": [
       "['A',\n",
       " 'B',\n",
       " 'C',\n",
       " 'D',\n",
       " 'E',\n",
       " 'F',\n",
       " 'G',\n",
       " 'H',\n",
       " 'I',\n",
       " 'J',\n",
       " 'K',\n",
       " 'L',\n",
       " 'M',\n",
       " 'N',\n",
       " 'O',\n",
       " 'P',\n",
       " 'Q',\n",
       " 'R',\n",
       " 'S',\n",
       " 'T',\n",
       " 'U',\n",
       " 'V',\n",
       " 'W',\n",
       " 'X',\n",
       " 'Y',\n",
       " 'Z']"
      ]
     },
     "execution_count": 108,
     "metadata": {},
     "output_type": "execute_result"
    }
   ],
   "source": [
    "alpha = [chr(i) for i in range(a_ascii, a_ascii+26)]\n",
    "alpha"
   ]
  },
  {
   "cell_type": "markdown",
   "metadata": {},
   "source": []
  },
  {
   "cell_type": "code",
   "execution_count": 109,
   "metadata": {},
   "outputs": [
    {
     "data": {
      "text/plain": [
       "array([ 0,  1,  2,  3,  4,  5,  6,  7,  8,  9, 10, 11, 12, 13, 14, 15, 16,\n",
       "       17, 18, 19, 20, 21, 22, 23, 24, 25])"
      ]
     },
     "execution_count": 109,
     "metadata": {},
     "output_type": "execute_result"
    }
   ],
   "source": [
    "numbers= np.arange(26)\n",
    "numbers"
   ]
  },
  {
   "cell_type": "code",
   "execution_count": 110,
   "metadata": {},
   "outputs": [
    {
     "data": {
      "text/plain": [
       "numpy.ndarray"
      ]
     },
     "execution_count": 110,
     "metadata": {},
     "output_type": "execute_result"
    }
   ],
   "source": [
    "type(numbers)\n",
    "#type(alpha)"
   ]
  },
  {
   "cell_type": "code",
   "execution_count": 111,
   "metadata": {},
   "outputs": [
    {
     "data": {
      "text/plain": [
       "{0: 'A',\n",
       " 1: 'B',\n",
       " 2: 'C',\n",
       " 3: 'D',\n",
       " 4: 'E',\n",
       " 5: 'F',\n",
       " 6: 'G',\n",
       " 7: 'H',\n",
       " 8: 'I',\n",
       " 9: 'J',\n",
       " 10: 'K',\n",
       " 11: 'L',\n",
       " 12: 'M',\n",
       " 13: 'N',\n",
       " 14: 'O',\n",
       " 15: 'P',\n",
       " 16: 'Q',\n",
       " 17: 'R',\n",
       " 18: 'S',\n",
       " 19: 'T',\n",
       " 20: 'U',\n",
       " 21: 'V',\n",
       " 22: 'W',\n",
       " 23: 'X',\n",
       " 24: 'Y',\n",
       " 25: 'Z'}"
      ]
     },
     "execution_count": 111,
     "metadata": {},
     "output_type": "execute_result"
    }
   ],
   "source": [
    "alpha_num= dict(zip(numbers,alpha))\n",
    "#type(alpha_num)\n",
    "alpha_num"
   ]
  },
  {
   "cell_type": "code",
   "execution_count": 207,
   "metadata": {},
   "outputs": [
    {
     "data": {
      "text/plain": [
       "a    0.0\n",
       "b    1.0\n",
       "c    2.0\n",
       "dtype: float64"
      ]
     },
     "execution_count": 207,
     "metadata": {},
     "output_type": "execute_result"
    }
   ],
   "source": [
    "#making series using a dictionary\n",
    "d = {'a' : 0., 'b' : 1., 'c' : 2.}\n",
    "pd.Series(d)"
   ]
  },
  {
   "cell_type": "code",
   "execution_count": 113,
   "metadata": {},
   "outputs": [
    {
     "data": {
      "text/plain": [
       "m    NaN\n",
       "n    NaN\n",
       "b    1.0\n",
       "c    2.0\n",
       "dtype: float64"
      ]
     },
     "execution_count": 113,
     "metadata": {},
     "output_type": "execute_result"
    }
   ],
   "source": [
    "ser=pd.Series(d, index=['m', 'n', 'b', 'c'])\n",
    "ser"
   ]
  },
  {
   "cell_type": "code",
   "execution_count": 114,
   "metadata": {},
   "outputs": [
    {
     "data": {
      "text/html": [
       "<div>\n",
       "<style scoped>\n",
       "    .dataframe tbody tr th:only-of-type {\n",
       "        vertical-align: middle;\n",
       "    }\n",
       "\n",
       "    .dataframe tbody tr th {\n",
       "        vertical-align: top;\n",
       "    }\n",
       "\n",
       "    .dataframe thead th {\n",
       "        text-align: right;\n",
       "    }\n",
       "</style>\n",
       "<table border=\"1\" class=\"dataframe\">\n",
       "  <thead>\n",
       "    <tr style=\"text-align: right;\">\n",
       "      <th></th>\n",
       "      <th>A</th>\n",
       "      <th>B</th>\n",
       "      <th>C</th>\n",
       "      <th>D</th>\n",
       "      <th>E</th>\n",
       "    </tr>\n",
       "  </thead>\n",
       "  <tbody>\n",
       "    <tr>\n",
       "      <th>2018-10-04</th>\n",
       "      <td>-1.940553</td>\n",
       "      <td>-0.465528</td>\n",
       "      <td>-1.056533</td>\n",
       "      <td>0.270076</td>\n",
       "      <td>0.348822</td>\n",
       "    </tr>\n",
       "    <tr>\n",
       "      <th>2018-10-08</th>\n",
       "      <td>-1.642539</td>\n",
       "      <td>-0.015005</td>\n",
       "      <td>-0.196583</td>\n",
       "      <td>-0.433937</td>\n",
       "      <td>1.623610</td>\n",
       "    </tr>\n",
       "    <tr>\n",
       "      <th>2018-10-03</th>\n",
       "      <td>-0.788798</td>\n",
       "      <td>1.684057</td>\n",
       "      <td>-0.030216</td>\n",
       "      <td>-1.505458</td>\n",
       "      <td>0.283767</td>\n",
       "    </tr>\n",
       "    <tr>\n",
       "      <th>2018-10-02</th>\n",
       "      <td>-0.338805</td>\n",
       "      <td>0.543087</td>\n",
       "      <td>-1.956426</td>\n",
       "      <td>-1.705472</td>\n",
       "      <td>0.295164</td>\n",
       "    </tr>\n",
       "    <tr>\n",
       "      <th>2018-10-07</th>\n",
       "      <td>-0.071780</td>\n",
       "      <td>1.103094</td>\n",
       "      <td>0.655575</td>\n",
       "      <td>-0.586446</td>\n",
       "      <td>-1.538508</td>\n",
       "    </tr>\n",
       "    <tr>\n",
       "      <th>2018-10-06</th>\n",
       "      <td>0.405757</td>\n",
       "      <td>-1.175372</td>\n",
       "      <td>1.125563</td>\n",
       "      <td>-0.072352</td>\n",
       "      <td>-1.201452</td>\n",
       "    </tr>\n",
       "    <tr>\n",
       "      <th>2018-10-05</th>\n",
       "      <td>1.149059</td>\n",
       "      <td>0.959669</td>\n",
       "      <td>0.372954</td>\n",
       "      <td>-2.310132</td>\n",
       "      <td>0.583047</td>\n",
       "    </tr>\n",
       "    <tr>\n",
       "      <th>2018-10-01</th>\n",
       "      <td>1.222231</td>\n",
       "      <td>0.331885</td>\n",
       "      <td>0.515486</td>\n",
       "      <td>-0.879656</td>\n",
       "      <td>1.114148</td>\n",
       "    </tr>\n",
       "  </tbody>\n",
       "</table>\n",
       "</div>"
      ],
      "text/plain": [
       "                   A         B         C         D         E\n",
       "2018-10-04 -1.940553 -0.465528 -1.056533  0.270076  0.348822\n",
       "2018-10-08 -1.642539 -0.015005 -0.196583 -0.433937  1.623610\n",
       "2018-10-03 -0.788798  1.684057 -0.030216 -1.505458  0.283767\n",
       "2018-10-02 -0.338805  0.543087 -1.956426 -1.705472  0.295164\n",
       "2018-10-07 -0.071780  1.103094  0.655575 -0.586446 -1.538508\n",
       "2018-10-06  0.405757 -1.175372  1.125563 -0.072352 -1.201452\n",
       "2018-10-05  1.149059  0.959669  0.372954 -2.310132  0.583047\n",
       "2018-10-01  1.222231  0.331885  0.515486 -0.879656  1.114148"
      ]
     },
     "execution_count": 114,
     "metadata": {},
     "output_type": "execute_result"
    }
   ],
   "source": [
    "df =df.sort_values(by=df.columns.tolist())\n",
    "df"
   ]
  },
  {
   "cell_type": "code",
   "execution_count": 120,
   "metadata": {},
   "outputs": [
    {
     "data": {
      "text/html": [
       "<div>\n",
       "<style scoped>\n",
       "    .dataframe tbody tr th:only-of-type {\n",
       "        vertical-align: middle;\n",
       "    }\n",
       "\n",
       "    .dataframe tbody tr th {\n",
       "        vertical-align: top;\n",
       "    }\n",
       "\n",
       "    .dataframe thead th {\n",
       "        text-align: right;\n",
       "    }\n",
       "</style>\n",
       "<table border=\"1\" class=\"dataframe\">\n",
       "  <thead>\n",
       "    <tr style=\"text-align: right;\">\n",
       "      <th></th>\n",
       "      <th>A</th>\n",
       "      <th>B</th>\n",
       "      <th>C</th>\n",
       "      <th>D</th>\n",
       "      <th>E</th>\n",
       "    </tr>\n",
       "  </thead>\n",
       "  <tbody>\n",
       "    <tr>\n",
       "      <th>2018-10-04</th>\n",
       "      <td>-1.940553</td>\n",
       "      <td>-0.465528</td>\n",
       "      <td>-1.056533</td>\n",
       "      <td>0.270076</td>\n",
       "      <td>0.348822</td>\n",
       "    </tr>\n",
       "    <tr>\n",
       "      <th>2018-10-08</th>\n",
       "      <td>-1.642539</td>\n",
       "      <td>-0.015005</td>\n",
       "      <td>-0.196583</td>\n",
       "      <td>-0.433937</td>\n",
       "      <td>1.623610</td>\n",
       "    </tr>\n",
       "    <tr>\n",
       "      <th>2018-10-03</th>\n",
       "      <td>-0.788798</td>\n",
       "      <td>1.684057</td>\n",
       "      <td>-0.030216</td>\n",
       "      <td>-1.505458</td>\n",
       "      <td>0.283767</td>\n",
       "    </tr>\n",
       "  </tbody>\n",
       "</table>\n",
       "</div>"
      ],
      "text/plain": [
       "                   A         B         C         D         E\n",
       "2018-10-04 -1.940553 -0.465528 -1.056533  0.270076  0.348822\n",
       "2018-10-08 -1.642539 -0.015005 -0.196583 -0.433937  1.623610\n",
       "2018-10-03 -0.788798  1.684057 -0.030216 -1.505458  0.283767"
      ]
     },
     "execution_count": 120,
     "metadata": {},
     "output_type": "execute_result"
    }
   ],
   "source": [
    "#selecting via [], slicing\n",
    "df[:3]"
   ]
  },
  {
   "cell_type": "code",
   "execution_count": 121,
   "metadata": {},
   "outputs": [
    {
     "data": {
      "text/plain": [
       "2018-10-04   -0.465528\n",
       "2018-10-08   -0.015005\n",
       "2018-10-03    1.684057\n",
       "2018-10-02    0.543087\n",
       "2018-10-07    1.103094\n",
       "2018-10-06   -1.175372\n",
       "2018-10-05    0.959669\n",
       "2018-10-01    0.331885\n",
       "Name: B, dtype: float64"
      ]
     },
     "execution_count": 121,
     "metadata": {},
     "output_type": "execute_result"
    }
   ],
   "source": [
    "#Select a single column\n",
    "df['B']"
   ]
  },
  {
   "cell_type": "code",
   "execution_count": 125,
   "metadata": {},
   "outputs": [
    {
     "data": {
      "text/plain": [
       "A   -0.338805\n",
       "B    0.543087\n",
       "C   -1.956426\n",
       "D   -1.705472\n",
       "E    0.295164\n",
       "Name: 2018-10-02 00:00:00, dtype: float64"
      ]
     },
     "execution_count": 125,
     "metadata": {},
     "output_type": "execute_result"
    }
   ],
   "source": [
    "#select using label\n",
    "df.loc[dates[1]]"
   ]
  },
  {
   "cell_type": "code",
   "execution_count": 135,
   "metadata": {},
   "outputs": [
    {
     "data": {
      "text/html": [
       "<div>\n",
       "<style scoped>\n",
       "    .dataframe tbody tr th:only-of-type {\n",
       "        vertical-align: middle;\n",
       "    }\n",
       "\n",
       "    .dataframe tbody tr th {\n",
       "        vertical-align: top;\n",
       "    }\n",
       "\n",
       "    .dataframe thead th {\n",
       "        text-align: right;\n",
       "    }\n",
       "</style>\n",
       "<table border=\"1\" class=\"dataframe\">\n",
       "  <thead>\n",
       "    <tr style=\"text-align: right;\">\n",
       "      <th></th>\n",
       "      <th>A</th>\n",
       "      <th>C</th>\n",
       "    </tr>\n",
       "  </thead>\n",
       "  <tbody>\n",
       "    <tr>\n",
       "      <th>2018-10-01</th>\n",
       "      <td>1.222231</td>\n",
       "      <td>0.515486</td>\n",
       "    </tr>\n",
       "    <tr>\n",
       "      <th>2018-10-02</th>\n",
       "      <td>-0.338805</td>\n",
       "      <td>-1.956426</td>\n",
       "    </tr>\n",
       "    <tr>\n",
       "      <th>2018-10-03</th>\n",
       "      <td>-0.788798</td>\n",
       "      <td>-0.030216</td>\n",
       "    </tr>\n",
       "    <tr>\n",
       "      <th>2018-10-04</th>\n",
       "      <td>-1.940553</td>\n",
       "      <td>-1.056533</td>\n",
       "    </tr>\n",
       "    <tr>\n",
       "      <th>2018-10-05</th>\n",
       "      <td>1.149059</td>\n",
       "      <td>0.372954</td>\n",
       "    </tr>\n",
       "    <tr>\n",
       "      <th>2018-10-06</th>\n",
       "      <td>0.405757</td>\n",
       "      <td>1.125563</td>\n",
       "    </tr>\n",
       "    <tr>\n",
       "      <th>2018-10-07</th>\n",
       "      <td>-0.071780</td>\n",
       "      <td>0.655575</td>\n",
       "    </tr>\n",
       "    <tr>\n",
       "      <th>2018-10-08</th>\n",
       "      <td>-1.642539</td>\n",
       "      <td>-0.196583</td>\n",
       "    </tr>\n",
       "  </tbody>\n",
       "</table>\n",
       "</div>"
      ],
      "text/plain": [
       "                   A         C\n",
       "2018-10-01  1.222231  0.515486\n",
       "2018-10-02 -0.338805 -1.956426\n",
       "2018-10-03 -0.788798 -0.030216\n",
       "2018-10-04 -1.940553 -1.056533\n",
       "2018-10-05  1.149059  0.372954\n",
       "2018-10-06  0.405757  1.125563\n",
       "2018-10-07 -0.071780  0.655575\n",
       "2018-10-08 -1.642539 -0.196583"
      ]
     },
     "execution_count": 135,
     "metadata": {},
     "output_type": "execute_result"
    }
   ],
   "source": [
    "df.loc[:,['A','C']].sort_index(axis=0)"
   ]
  },
  {
   "cell_type": "code",
   "execution_count": 136,
   "metadata": {},
   "outputs": [
    {
     "data": {
      "text/plain": [
       "1.2222307012479785"
      ]
     },
     "execution_count": 136,
     "metadata": {},
     "output_type": "execute_result"
    }
   ],
   "source": [
    "df.at[dates[0],'A']"
   ]
  },
  {
   "cell_type": "code",
   "execution_count": 161,
   "metadata": {},
   "outputs": [
    {
     "data": {
      "text/html": [
       "<div>\n",
       "<style scoped>\n",
       "    .dataframe tbody tr th:only-of-type {\n",
       "        vertical-align: middle;\n",
       "    }\n",
       "\n",
       "    .dataframe tbody tr th {\n",
       "        vertical-align: top;\n",
       "    }\n",
       "\n",
       "    .dataframe thead th {\n",
       "        text-align: right;\n",
       "    }\n",
       "</style>\n",
       "<table border=\"1\" class=\"dataframe\">\n",
       "  <thead>\n",
       "    <tr style=\"text-align: right;\">\n",
       "      <th></th>\n",
       "      <th>A</th>\n",
       "      <th>B</th>\n",
       "      <th>C</th>\n",
       "      <th>D</th>\n",
       "      <th>E</th>\n",
       "    </tr>\n",
       "  </thead>\n",
       "  <tbody>\n",
       "    <tr>\n",
       "      <th>2018-10-01</th>\n",
       "      <td>1.222231</td>\n",
       "      <td>0.331885</td>\n",
       "      <td>0.515486</td>\n",
       "      <td>-0.879656</td>\n",
       "      <td>1.114148</td>\n",
       "    </tr>\n",
       "    <tr>\n",
       "      <th>2018-10-02</th>\n",
       "      <td>-0.338805</td>\n",
       "      <td>0.543087</td>\n",
       "      <td>-1.956426</td>\n",
       "      <td>-1.705472</td>\n",
       "      <td>0.295164</td>\n",
       "    </tr>\n",
       "    <tr>\n",
       "      <th>2018-10-03</th>\n",
       "      <td>-0.788798</td>\n",
       "      <td>1.684057</td>\n",
       "      <td>-0.030216</td>\n",
       "      <td>-1.505458</td>\n",
       "      <td>0.283767</td>\n",
       "    </tr>\n",
       "    <tr>\n",
       "      <th>2018-10-04</th>\n",
       "      <td>-1.940553</td>\n",
       "      <td>-0.465528</td>\n",
       "      <td>-1.056533</td>\n",
       "      <td>0.270076</td>\n",
       "      <td>0.348822</td>\n",
       "    </tr>\n",
       "    <tr>\n",
       "      <th>2018-10-05</th>\n",
       "      <td>1.149059</td>\n",
       "      <td>0.959669</td>\n",
       "      <td>0.372954</td>\n",
       "      <td>-2.310132</td>\n",
       "      <td>0.583047</td>\n",
       "    </tr>\n",
       "    <tr>\n",
       "      <th>2018-10-06</th>\n",
       "      <td>0.405757</td>\n",
       "      <td>-1.175372</td>\n",
       "      <td>1.125563</td>\n",
       "      <td>-0.072352</td>\n",
       "      <td>-1.201452</td>\n",
       "    </tr>\n",
       "    <tr>\n",
       "      <th>2018-10-07</th>\n",
       "      <td>-0.071780</td>\n",
       "      <td>1.103094</td>\n",
       "      <td>0.655575</td>\n",
       "      <td>-0.586446</td>\n",
       "      <td>-1.538508</td>\n",
       "    </tr>\n",
       "    <tr>\n",
       "      <th>2018-10-08</th>\n",
       "      <td>-1.642539</td>\n",
       "      <td>-0.015005</td>\n",
       "      <td>-0.196583</td>\n",
       "      <td>-0.433937</td>\n",
       "      <td>1.623610</td>\n",
       "    </tr>\n",
       "  </tbody>\n",
       "</table>\n",
       "</div>"
      ],
      "text/plain": [
       "                   A         B         C         D         E\n",
       "2018-10-01  1.222231  0.331885  0.515486 -0.879656  1.114148\n",
       "2018-10-02 -0.338805  0.543087 -1.956426 -1.705472  0.295164\n",
       "2018-10-03 -0.788798  1.684057 -0.030216 -1.505458  0.283767\n",
       "2018-10-04 -1.940553 -0.465528 -1.056533  0.270076  0.348822\n",
       "2018-10-05  1.149059  0.959669  0.372954 -2.310132  0.583047\n",
       "2018-10-06  0.405757 -1.175372  1.125563 -0.072352 -1.201452\n",
       "2018-10-07 -0.071780  1.103094  0.655575 -0.586446 -1.538508\n",
       "2018-10-08 -1.642539 -0.015005 -0.196583 -0.433937  1.623610"
      ]
     },
     "execution_count": 161,
     "metadata": {},
     "output_type": "execute_result"
    }
   ],
   "source": [
    "df.reindex(dates)"
   ]
  },
  {
   "cell_type": "code",
   "execution_count": 155,
   "metadata": {},
   "outputs": [
    {
     "data": {
      "text/plain": [
       "A   -0.071780\n",
       "B    1.103094\n",
       "C    0.655575\n",
       "D   -0.586446\n",
       "E   -1.538508\n",
       "Name: 2018-10-07 00:00:00, dtype: float64"
      ]
     },
     "execution_count": 155,
     "metadata": {},
     "output_type": "execute_result"
    }
   ],
   "source": [
    "#select via position of passed integers\n",
    "df.iloc[4]"
   ]
  },
  {
   "cell_type": "code",
   "execution_count": 158,
   "metadata": {},
   "outputs": [
    {
     "data": {
      "text/html": [
       "<div>\n",
       "<style scoped>\n",
       "    .dataframe tbody tr th:only-of-type {\n",
       "        vertical-align: middle;\n",
       "    }\n",
       "\n",
       "    .dataframe tbody tr th {\n",
       "        vertical-align: top;\n",
       "    }\n",
       "\n",
       "    .dataframe thead th {\n",
       "        text-align: right;\n",
       "    }\n",
       "</style>\n",
       "<table border=\"1\" class=\"dataframe\">\n",
       "  <thead>\n",
       "    <tr style=\"text-align: right;\">\n",
       "      <th></th>\n",
       "      <th>A</th>\n",
       "      <th>B</th>\n",
       "      <th>C</th>\n",
       "      <th>D</th>\n",
       "    </tr>\n",
       "  </thead>\n",
       "  <tbody>\n",
       "    <tr>\n",
       "      <th>2018-10-03</th>\n",
       "      <td>-0.788798</td>\n",
       "      <td>1.684057</td>\n",
       "      <td>-0.030216</td>\n",
       "      <td>-1.505458</td>\n",
       "    </tr>\n",
       "    <tr>\n",
       "      <th>2018-10-02</th>\n",
       "      <td>-0.338805</td>\n",
       "      <td>0.543087</td>\n",
       "      <td>-1.956426</td>\n",
       "      <td>-1.705472</td>\n",
       "    </tr>\n",
       "    <tr>\n",
       "      <th>2018-10-07</th>\n",
       "      <td>-0.071780</td>\n",
       "      <td>1.103094</td>\n",
       "      <td>0.655575</td>\n",
       "      <td>-0.586446</td>\n",
       "    </tr>\n",
       "  </tbody>\n",
       "</table>\n",
       "</div>"
      ],
      "text/plain": [
       "                   A         B         C         D\n",
       "2018-10-03 -0.788798  1.684057 -0.030216 -1.505458\n",
       "2018-10-02 -0.338805  0.543087 -1.956426 -1.705472\n",
       "2018-10-07 -0.071780  1.103094  0.655575 -0.586446"
      ]
     },
     "execution_count": 158,
     "metadata": {},
     "output_type": "execute_result"
    }
   ],
   "source": [
    "#integer slices\n",
    "df.iloc[2:5,0:4]"
   ]
  },
  {
   "cell_type": "code",
   "execution_count": 159,
   "metadata": {},
   "outputs": [
    {
     "data": {
      "text/html": [
       "<div>\n",
       "<style scoped>\n",
       "    .dataframe tbody tr th:only-of-type {\n",
       "        vertical-align: middle;\n",
       "    }\n",
       "\n",
       "    .dataframe tbody tr th {\n",
       "        vertical-align: top;\n",
       "    }\n",
       "\n",
       "    .dataframe thead th {\n",
       "        text-align: right;\n",
       "    }\n",
       "</style>\n",
       "<table border=\"1\" class=\"dataframe\">\n",
       "  <thead>\n",
       "    <tr style=\"text-align: right;\">\n",
       "      <th></th>\n",
       "      <th>A</th>\n",
       "      <th>B</th>\n",
       "      <th>C</th>\n",
       "      <th>D</th>\n",
       "      <th>E</th>\n",
       "    </tr>\n",
       "  </thead>\n",
       "  <tbody>\n",
       "    <tr>\n",
       "      <th>2018-10-06</th>\n",
       "      <td>0.405757</td>\n",
       "      <td>-1.175372</td>\n",
       "      <td>1.125563</td>\n",
       "      <td>-0.072352</td>\n",
       "      <td>-1.201452</td>\n",
       "    </tr>\n",
       "    <tr>\n",
       "      <th>2018-10-05</th>\n",
       "      <td>1.149059</td>\n",
       "      <td>0.959669</td>\n",
       "      <td>0.372954</td>\n",
       "      <td>-2.310132</td>\n",
       "      <td>0.583047</td>\n",
       "    </tr>\n",
       "    <tr>\n",
       "      <th>2018-10-01</th>\n",
       "      <td>1.222231</td>\n",
       "      <td>0.331885</td>\n",
       "      <td>0.515486</td>\n",
       "      <td>-0.879656</td>\n",
       "      <td>1.114148</td>\n",
       "    </tr>\n",
       "  </tbody>\n",
       "</table>\n",
       "</div>"
      ],
      "text/plain": [
       "                   A         B         C         D         E\n",
       "2018-10-06  0.405757 -1.175372  1.125563 -0.072352 -1.201452\n",
       "2018-10-05  1.149059  0.959669  0.372954 -2.310132  0.583047\n",
       "2018-10-01  1.222231  0.331885  0.515486 -0.879656  1.114148"
      ]
     },
     "execution_count": 159,
     "metadata": {},
     "output_type": "execute_result"
    }
   ],
   "source": [
    "df[df.A>0]"
   ]
  },
  {
   "cell_type": "code",
   "execution_count": 206,
   "metadata": {},
   "outputs": [
    {
     "data": {
      "text/html": [
       "<div>\n",
       "<style scoped>\n",
       "    .dataframe tbody tr th:only-of-type {\n",
       "        vertical-align: middle;\n",
       "    }\n",
       "\n",
       "    .dataframe tbody tr th {\n",
       "        vertical-align: top;\n",
       "    }\n",
       "\n",
       "    .dataframe thead th {\n",
       "        text-align: right;\n",
       "    }\n",
       "</style>\n",
       "<table border=\"1\" class=\"dataframe\">\n",
       "  <thead>\n",
       "    <tr style=\"text-align: right;\">\n",
       "      <th></th>\n",
       "      <th>A</th>\n",
       "      <th>B</th>\n",
       "      <th>C</th>\n",
       "      <th>D</th>\n",
       "      <th>E</th>\n",
       "    </tr>\n",
       "  </thead>\n",
       "  <tbody>\n",
       "    <tr>\n",
       "      <th>2018-10-04</th>\n",
       "      <td>-1.94055</td>\n",
       "      <td>0</td>\n",
       "      <td>-1.05653</td>\n",
       "      <td>0.270076</td>\n",
       "      <td>0.348822</td>\n",
       "    </tr>\n",
       "    <tr>\n",
       "      <th>2018-10-08</th>\n",
       "      <td>-1.64254</td>\n",
       "      <td>-0.0150053</td>\n",
       "      <td>-0.196583</td>\n",
       "      <td>-0.433937</td>\n",
       "      <td>1.62361</td>\n",
       "    </tr>\n",
       "    <tr>\n",
       "      <th>2018-10-03</th>\n",
       "      <td>-0.788798</td>\n",
       "      <td>1.68406</td>\n",
       "      <td>-0.0302163</td>\n",
       "      <td>-1.50546</td>\n",
       "      <td>0.283767</td>\n",
       "    </tr>\n",
       "    <tr>\n",
       "      <th>2018-10-02</th>\n",
       "      <td>-0.338805</td>\n",
       "      <td>0.543087</td>\n",
       "      <td>-1.95643</td>\n",
       "      <td>-1.70547</td>\n",
       "      <td>0.295164</td>\n",
       "    </tr>\n",
       "    <tr>\n",
       "      <th>2018-10-07</th>\n",
       "      <td>-0.0717802</td>\n",
       "      <td>1.10309</td>\n",
       "      <td>0.655575</td>\n",
       "      <td>-0.586446</td>\n",
       "      <td>-1.53851</td>\n",
       "    </tr>\n",
       "    <tr>\n",
       "      <th>2018-10-06</th>\n",
       "      <td>0.405757</td>\n",
       "      <td>-1.17537</td>\n",
       "      <td>1.12556</td>\n",
       "      <td>-0.072352</td>\n",
       "      <td>-1.20145</td>\n",
       "    </tr>\n",
       "    <tr>\n",
       "      <th>2018-10-05</th>\n",
       "      <td>1.14906</td>\n",
       "      <td>0.959669</td>\n",
       "      <td>0.372954</td>\n",
       "      <td>-2.31013</td>\n",
       "      <td>0.583047</td>\n",
       "    </tr>\n",
       "    <tr>\n",
       "      <th>2018-10-01</th>\n",
       "      <td>Nan</td>\n",
       "      <td>Nan</td>\n",
       "      <td>Nan</td>\n",
       "      <td>Nan</td>\n",
       "      <td>Nan</td>\n",
       "    </tr>\n",
       "  </tbody>\n",
       "</table>\n",
       "</div>"
      ],
      "text/plain": [
       "                    A          B          C         D         E\n",
       "2018-10-04   -1.94055          0   -1.05653  0.270076  0.348822\n",
       "2018-10-08   -1.64254 -0.0150053  -0.196583 -0.433937   1.62361\n",
       "2018-10-03  -0.788798    1.68406 -0.0302163  -1.50546  0.283767\n",
       "2018-10-02  -0.338805   0.543087   -1.95643  -1.70547  0.295164\n",
       "2018-10-07 -0.0717802    1.10309   0.655575 -0.586446  -1.53851\n",
       "2018-10-06   0.405757   -1.17537    1.12556 -0.072352  -1.20145\n",
       "2018-10-05    1.14906   0.959669   0.372954  -2.31013  0.583047\n",
       "2018-10-01        Nan        Nan        Nan       Nan       Nan"
      ]
     },
     "execution_count": 206,
     "metadata": {},
     "output_type": "execute_result"
    }
   ],
   "source": [
    "df[df>0]"
   ]
  },
  {
   "cell_type": "code",
   "execution_count": 174,
   "metadata": {},
   "outputs": [
    {
     "data": {
      "text/html": [
       "<div>\n",
       "<style scoped>\n",
       "    .dataframe tbody tr th:only-of-type {\n",
       "        vertical-align: middle;\n",
       "    }\n",
       "\n",
       "    .dataframe tbody tr th {\n",
       "        vertical-align: top;\n",
       "    }\n",
       "\n",
       "    .dataframe thead th {\n",
       "        text-align: right;\n",
       "    }\n",
       "</style>\n",
       "<table border=\"1\" class=\"dataframe\">\n",
       "  <thead>\n",
       "    <tr style=\"text-align: right;\">\n",
       "      <th></th>\n",
       "      <th>A</th>\n",
       "      <th>B</th>\n",
       "      <th>C</th>\n",
       "      <th>D</th>\n",
       "      <th>E</th>\n",
       "    </tr>\n",
       "  </thead>\n",
       "  <tbody>\n",
       "    <tr>\n",
       "      <th>2018-10-01</th>\n",
       "      <td>1.222231</td>\n",
       "      <td>0.331885</td>\n",
       "      <td>0.515486</td>\n",
       "      <td>-0.879656</td>\n",
       "      <td>one</td>\n",
       "    </tr>\n",
       "    <tr>\n",
       "      <th>2018-10-02</th>\n",
       "      <td>-0.338805</td>\n",
       "      <td>0.543087</td>\n",
       "      <td>-1.956426</td>\n",
       "      <td>-1.705472</td>\n",
       "      <td>two</td>\n",
       "    </tr>\n",
       "  </tbody>\n",
       "</table>\n",
       "</div>"
      ],
      "text/plain": [
       "                   A         B         C         D    E\n",
       "2018-10-01  1.222231  0.331885  0.515486 -0.879656  one\n",
       "2018-10-02 -0.338805  0.543087 -1.956426 -1.705472  two"
      ]
     },
     "execution_count": 174,
     "metadata": {},
     "output_type": "execute_result"
    }
   ],
   "source": [
    "#Filter using isin()\n",
    "df2=df.reindex(dates).copy()\n",
    "df2['E']=['one', 'two', 'three', 'four', 'five', 'six', 'seven','eight']\n",
    "df2[df2['E'].isin(['two','one'])]"
   ]
  },
  {
   "cell_type": "code",
   "execution_count": 209,
   "metadata": {},
   "outputs": [
    {
     "data": {
      "text/html": [
       "<div>\n",
       "<style scoped>\n",
       "    .dataframe tbody tr th:only-of-type {\n",
       "        vertical-align: middle;\n",
       "    }\n",
       "\n",
       "    .dataframe tbody tr th {\n",
       "        vertical-align: top;\n",
       "    }\n",
       "\n",
       "    .dataframe thead th {\n",
       "        text-align: right;\n",
       "    }\n",
       "</style>\n",
       "<table border=\"1\" class=\"dataframe\">\n",
       "  <thead>\n",
       "    <tr style=\"text-align: right;\">\n",
       "      <th></th>\n",
       "      <th>A</th>\n",
       "      <th>B</th>\n",
       "      <th>C</th>\n",
       "      <th>D</th>\n",
       "      <th>E</th>\n",
       "      <th>1</th>\n",
       "    </tr>\n",
       "  </thead>\n",
       "  <tbody>\n",
       "    <tr>\n",
       "      <th>0</th>\n",
       "      <td>hi</td>\n",
       "      <td>1</td>\n",
       "      <td>foo</td>\n",
       "      <td>2</td>\n",
       "      <td>2.0</td>\n",
       "      <td>0.0</td>\n",
       "    </tr>\n",
       "    <tr>\n",
       "      <th>1</th>\n",
       "      <td>hi</td>\n",
       "      <td>1</td>\n",
       "      <td>foo</td>\n",
       "      <td>2</td>\n",
       "      <td>2.0</td>\n",
       "      <td>NaN</td>\n",
       "    </tr>\n",
       "    <tr>\n",
       "      <th>2</th>\n",
       "      <td>hi</td>\n",
       "      <td>1</td>\n",
       "      <td>foo</td>\n",
       "      <td>2</td>\n",
       "      <td>2.0</td>\n",
       "      <td>NaN</td>\n",
       "    </tr>\n",
       "    <tr>\n",
       "      <th>3</th>\n",
       "      <td>hi</td>\n",
       "      <td>1</td>\n",
       "      <td>foo</td>\n",
       "      <td>2</td>\n",
       "      <td>1.0</td>\n",
       "      <td>NaN</td>\n",
       "    </tr>\n",
       "  </tbody>\n",
       "</table>\n",
       "</div>"
      ],
      "text/plain": [
       "    A  B    C  D    E    1\n",
       "0  hi  1  foo  2  2.0  0.0\n",
       "1  hi  1  foo  2  2.0  NaN\n",
       "2  hi  1  foo  2  2.0  NaN\n",
       "3  hi  1  foo  2  1.0  NaN"
      ]
     },
     "execution_count": 209,
     "metadata": {},
     "output_type": "execute_result"
    }
   ],
   "source": [
    "df1.at[0,1]=0\n",
    "df1"
   ]
  },
  {
   "cell_type": "code",
   "execution_count": 212,
   "metadata": {},
   "outputs": [
    {
     "data": {
      "text/html": [
       "<div>\n",
       "<style scoped>\n",
       "    .dataframe tbody tr th:only-of-type {\n",
       "        vertical-align: middle;\n",
       "    }\n",
       "\n",
       "    .dataframe tbody tr th {\n",
       "        vertical-align: top;\n",
       "    }\n",
       "\n",
       "    .dataframe thead th {\n",
       "        text-align: right;\n",
       "    }\n",
       "</style>\n",
       "<table border=\"1\" class=\"dataframe\">\n",
       "  <thead>\n",
       "    <tr style=\"text-align: right;\">\n",
       "      <th></th>\n",
       "      <th>A</th>\n",
       "      <th>B</th>\n",
       "      <th>C</th>\n",
       "      <th>D</th>\n",
       "      <th>E</th>\n",
       "      <th>1</th>\n",
       "    </tr>\n",
       "  </thead>\n",
       "  <tbody>\n",
       "    <tr>\n",
       "      <th>0</th>\n",
       "      <td>hi</td>\n",
       "      <td>1</td>\n",
       "      <td>foo</td>\n",
       "      <td>2</td>\n",
       "      <td>2.0</td>\n",
       "      <td>0.0</td>\n",
       "    </tr>\n",
       "  </tbody>\n",
       "</table>\n",
       "</div>"
      ],
      "text/plain": [
       "    A  B    C  D    E    1\n",
       "0  hi  1  foo  2  2.0  0.0"
      ]
     },
     "execution_count": 212,
     "metadata": {},
     "output_type": "execute_result"
    }
   ],
   "source": [
    "df1.dropna(how='any')"
   ]
  },
  {
   "cell_type": "code",
   "execution_count": 213,
   "metadata": {},
   "outputs": [
    {
     "data": {
      "text/html": [
       "<div>\n",
       "<style scoped>\n",
       "    .dataframe tbody tr th:only-of-type {\n",
       "        vertical-align: middle;\n",
       "    }\n",
       "\n",
       "    .dataframe tbody tr th {\n",
       "        vertical-align: top;\n",
       "    }\n",
       "\n",
       "    .dataframe thead th {\n",
       "        text-align: right;\n",
       "    }\n",
       "</style>\n",
       "<table border=\"1\" class=\"dataframe\">\n",
       "  <thead>\n",
       "    <tr style=\"text-align: right;\">\n",
       "      <th></th>\n",
       "      <th>A</th>\n",
       "      <th>B</th>\n",
       "      <th>C</th>\n",
       "      <th>D</th>\n",
       "      <th>E</th>\n",
       "      <th>1</th>\n",
       "    </tr>\n",
       "  </thead>\n",
       "  <tbody>\n",
       "    <tr>\n",
       "      <th>0</th>\n",
       "      <td>hi</td>\n",
       "      <td>1</td>\n",
       "      <td>foo</td>\n",
       "      <td>2</td>\n",
       "      <td>2.0</td>\n",
       "      <td>0.0</td>\n",
       "    </tr>\n",
       "    <tr>\n",
       "      <th>1</th>\n",
       "      <td>hi</td>\n",
       "      <td>1</td>\n",
       "      <td>foo</td>\n",
       "      <td>2</td>\n",
       "      <td>2.0</td>\n",
       "      <td>5.0</td>\n",
       "    </tr>\n",
       "    <tr>\n",
       "      <th>2</th>\n",
       "      <td>hi</td>\n",
       "      <td>1</td>\n",
       "      <td>foo</td>\n",
       "      <td>2</td>\n",
       "      <td>2.0</td>\n",
       "      <td>5.0</td>\n",
       "    </tr>\n",
       "    <tr>\n",
       "      <th>3</th>\n",
       "      <td>hi</td>\n",
       "      <td>1</td>\n",
       "      <td>foo</td>\n",
       "      <td>2</td>\n",
       "      <td>1.0</td>\n",
       "      <td>5.0</td>\n",
       "    </tr>\n",
       "  </tbody>\n",
       "</table>\n",
       "</div>"
      ],
      "text/plain": [
       "    A  B    C  D    E    1\n",
       "0  hi  1  foo  2  2.0  0.0\n",
       "1  hi  1  foo  2  2.0  5.0\n",
       "2  hi  1  foo  2  2.0  5.0\n",
       "3  hi  1  foo  2  1.0  5.0"
      ]
     },
     "execution_count": 213,
     "metadata": {},
     "output_type": "execute_result"
    }
   ],
   "source": [
    "df1.fillna(value=5)"
   ]
  },
  {
   "cell_type": "code",
   "execution_count": 214,
   "metadata": {},
   "outputs": [
    {
     "data": {
      "text/html": [
       "<div>\n",
       "<style scoped>\n",
       "    .dataframe tbody tr th:only-of-type {\n",
       "        vertical-align: middle;\n",
       "    }\n",
       "\n",
       "    .dataframe tbody tr th {\n",
       "        vertical-align: top;\n",
       "    }\n",
       "\n",
       "    .dataframe thead th {\n",
       "        text-align: right;\n",
       "    }\n",
       "</style>\n",
       "<table border=\"1\" class=\"dataframe\">\n",
       "  <thead>\n",
       "    <tr style=\"text-align: right;\">\n",
       "      <th></th>\n",
       "      <th>A</th>\n",
       "      <th>B</th>\n",
       "      <th>C</th>\n",
       "      <th>D</th>\n",
       "      <th>E</th>\n",
       "      <th>1</th>\n",
       "    </tr>\n",
       "  </thead>\n",
       "  <tbody>\n",
       "    <tr>\n",
       "      <th>0</th>\n",
       "      <td>False</td>\n",
       "      <td>False</td>\n",
       "      <td>False</td>\n",
       "      <td>False</td>\n",
       "      <td>False</td>\n",
       "      <td>False</td>\n",
       "    </tr>\n",
       "    <tr>\n",
       "      <th>1</th>\n",
       "      <td>False</td>\n",
       "      <td>False</td>\n",
       "      <td>False</td>\n",
       "      <td>False</td>\n",
       "      <td>False</td>\n",
       "      <td>True</td>\n",
       "    </tr>\n",
       "    <tr>\n",
       "      <th>2</th>\n",
       "      <td>False</td>\n",
       "      <td>False</td>\n",
       "      <td>False</td>\n",
       "      <td>False</td>\n",
       "      <td>False</td>\n",
       "      <td>True</td>\n",
       "    </tr>\n",
       "    <tr>\n",
       "      <th>3</th>\n",
       "      <td>False</td>\n",
       "      <td>False</td>\n",
       "      <td>False</td>\n",
       "      <td>False</td>\n",
       "      <td>False</td>\n",
       "      <td>True</td>\n",
       "    </tr>\n",
       "  </tbody>\n",
       "</table>\n",
       "</div>"
      ],
      "text/plain": [
       "       A      B      C      D      E      1\n",
       "0  False  False  False  False  False  False\n",
       "1  False  False  False  False  False   True\n",
       "2  False  False  False  False  False   True\n",
       "3  False  False  False  False  False   True"
      ]
     },
     "execution_count": 214,
     "metadata": {},
     "output_type": "execute_result"
    }
   ],
   "source": [
    " pd.isna(df1)"
   ]
  },
  {
   "cell_type": "code",
   "execution_count": 223,
   "metadata": {},
   "outputs": [
    {
     "data": {
      "text/plain": [
       "A   -0.250679\n",
       "B    0.370736\n",
       "C   -0.071273\n",
       "D   -0.902922\n",
       "dtype: float64"
      ]
     },
     "execution_count": 223,
     "metadata": {},
     "output_type": "execute_result"
    }
   ],
   "source": [
    "df2.mean(axis=0)"
   ]
  },
  {
   "cell_type": "code",
   "execution_count": 233,
   "metadata": {},
   "outputs": [
    {
     "data": {
      "text/html": [
       "<div>\n",
       "<style scoped>\n",
       "    .dataframe tbody tr th:only-of-type {\n",
       "        vertical-align: middle;\n",
       "    }\n",
       "\n",
       "    .dataframe tbody tr th {\n",
       "        vertical-align: top;\n",
       "    }\n",
       "\n",
       "    .dataframe thead th {\n",
       "        text-align: right;\n",
       "    }\n",
       "</style>\n",
       "<table border=\"1\" class=\"dataframe\">\n",
       "  <thead>\n",
       "    <tr style=\"text-align: right;\">\n",
       "      <th></th>\n",
       "      <th>A</th>\n",
       "      <th>B</th>\n",
       "      <th>C</th>\n",
       "      <th>D</th>\n",
       "      <th>E</th>\n",
       "    </tr>\n",
       "  </thead>\n",
       "  <tbody>\n",
       "    <tr>\n",
       "      <th>2018-10-04</th>\n",
       "      <td>-1.94055</td>\n",
       "      <td>0</td>\n",
       "      <td>-1.05653</td>\n",
       "      <td>0.270076</td>\n",
       "      <td>0.348822</td>\n",
       "    </tr>\n",
       "    <tr>\n",
       "      <th>2018-10-08</th>\n",
       "      <td>-1.64254</td>\n",
       "      <td>-0.0150053</td>\n",
       "      <td>-0.196583</td>\n",
       "      <td>-0.433937</td>\n",
       "      <td>1.62361</td>\n",
       "    </tr>\n",
       "    <tr>\n",
       "      <th>2018-10-03</th>\n",
       "      <td>-0.788798</td>\n",
       "      <td>1.68406</td>\n",
       "      <td>-0.0302163</td>\n",
       "      <td>-1.50546</td>\n",
       "      <td>0.283767</td>\n",
       "    </tr>\n",
       "    <tr>\n",
       "      <th>2018-10-02</th>\n",
       "      <td>-0.338805</td>\n",
       "      <td>0.543087</td>\n",
       "      <td>-1.95643</td>\n",
       "      <td>-1.70547</td>\n",
       "      <td>0.295164</td>\n",
       "    </tr>\n",
       "    <tr>\n",
       "      <th>2018-10-07</th>\n",
       "      <td>-0.0717802</td>\n",
       "      <td>1.10309</td>\n",
       "      <td>0.655575</td>\n",
       "      <td>-0.586446</td>\n",
       "      <td>-1.53851</td>\n",
       "    </tr>\n",
       "    <tr>\n",
       "      <th>2018-10-06</th>\n",
       "      <td>0.405757</td>\n",
       "      <td>-1.17537</td>\n",
       "      <td>1.12556</td>\n",
       "      <td>-0.072352</td>\n",
       "      <td>-1.20145</td>\n",
       "    </tr>\n",
       "    <tr>\n",
       "      <th>2018-10-05</th>\n",
       "      <td>1.14906</td>\n",
       "      <td>0.959669</td>\n",
       "      <td>0.372954</td>\n",
       "      <td>-2.31013</td>\n",
       "      <td>0.583047</td>\n",
       "    </tr>\n",
       "    <tr>\n",
       "      <th>2018-10-01</th>\n",
       "      <td>9</td>\n",
       "      <td>9</td>\n",
       "      <td>9</td>\n",
       "      <td>9</td>\n",
       "      <td>9</td>\n",
       "    </tr>\n",
       "  </tbody>\n",
       "</table>\n",
       "</div>"
      ],
      "text/plain": [
       "                    A          B          C         D         E\n",
       "2018-10-04   -1.94055          0   -1.05653  0.270076  0.348822\n",
       "2018-10-08   -1.64254 -0.0150053  -0.196583 -0.433937   1.62361\n",
       "2018-10-03  -0.788798    1.68406 -0.0302163  -1.50546  0.283767\n",
       "2018-10-02  -0.338805   0.543087   -1.95643  -1.70547  0.295164\n",
       "2018-10-07 -0.0717802    1.10309   0.655575 -0.586446  -1.53851\n",
       "2018-10-06   0.405757   -1.17537    1.12556 -0.072352  -1.20145\n",
       "2018-10-05    1.14906   0.959669   0.372954  -2.31013  0.583047\n",
       "2018-10-01          9          9          9         9         9"
      ]
     },
     "execution_count": 233,
     "metadata": {},
     "output_type": "execute_result"
    }
   ],
   "source": [
    "df.at[dates[0],:]=9.0\n",
    "df\n"
   ]
  },
  {
   "cell_type": "code",
   "execution_count": 234,
   "metadata": {},
   "outputs": [
    {
     "data": {
      "text/plain": [
       "A    10.940553\n",
       "B    10.175372\n",
       "C    10.956426\n",
       "D    11.310132\n",
       "E    10.538508\n",
       "dtype: float64"
      ]
     },
     "execution_count": 234,
     "metadata": {},
     "output_type": "execute_result"
    }
   ],
   "source": [
    "df.apply(lambda x: x.max() - x.min())"
   ]
  },
  {
   "cell_type": "code",
   "execution_count": null,
   "metadata": {},
   "outputs": [],
   "source": []
  }
 ],
 "metadata": {
  "kernelspec": {
   "display_name": "Python 3",
   "language": "python",
   "name": "python3"
  },
  "language_info": {
   "codemirror_mode": {
    "name": "ipython",
    "version": 3
   },
   "file_extension": ".py",
   "mimetype": "text/x-python",
   "name": "python",
   "nbconvert_exporter": "python",
   "pygments_lexer": "ipython3",
   "version": "3.6.5"
  }
 },
 "nbformat": 4,
 "nbformat_minor": 2
}

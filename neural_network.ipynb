{
 "cells": [
  {
   "cell_type": "code",
   "execution_count": 1,
   "metadata": {},
   "outputs": [],
   "source": [
    "import pandas as pd\n",
    "import numpy as np\n",
    "from sklearn import datasets\n",
    "from pandas import DataFrame as df"
   ]
  },
  {
   "cell_type": "code",
   "execution_count": 51,
   "metadata": {},
   "outputs": [
    {
     "name": "stdout",
     "output_type": "stream",
     "text": [
      "(150, 4)\n"
     ]
    },
    {
     "data": {
      "text/html": [
       "<div>\n",
       "<style scoped>\n",
       "    .dataframe tbody tr th:only-of-type {\n",
       "        vertical-align: middle;\n",
       "    }\n",
       "\n",
       "    .dataframe tbody tr th {\n",
       "        vertical-align: top;\n",
       "    }\n",
       "\n",
       "    .dataframe thead th {\n",
       "        text-align: right;\n",
       "    }\n",
       "</style>\n",
       "<table border=\"1\" class=\"dataframe\">\n",
       "  <thead>\n",
       "    <tr style=\"text-align: right;\">\n",
       "      <th></th>\n",
       "      <th>0</th>\n",
       "      <th>1</th>\n",
       "      <th>2</th>\n",
       "      <th>3</th>\n",
       "      <th>4</th>\n",
       "    </tr>\n",
       "  </thead>\n",
       "  <tbody>\n",
       "    <tr>\n",
       "      <th>39</th>\n",
       "      <td>5.1</td>\n",
       "      <td>3.4</td>\n",
       "      <td>1.5</td>\n",
       "      <td>0.2</td>\n",
       "      <td>0.0</td>\n",
       "    </tr>\n",
       "    <tr>\n",
       "      <th>25</th>\n",
       "      <td>5.0</td>\n",
       "      <td>3.0</td>\n",
       "      <td>1.6</td>\n",
       "      <td>0.2</td>\n",
       "      <td>0.0</td>\n",
       "    </tr>\n",
       "    <tr>\n",
       "      <th>116</th>\n",
       "      <td>6.5</td>\n",
       "      <td>3.0</td>\n",
       "      <td>5.5</td>\n",
       "      <td>1.8</td>\n",
       "      <td>2.0</td>\n",
       "    </tr>\n",
       "    <tr>\n",
       "      <th>68</th>\n",
       "      <td>6.2</td>\n",
       "      <td>2.2</td>\n",
       "      <td>4.5</td>\n",
       "      <td>1.5</td>\n",
       "      <td>1.0</td>\n",
       "    </tr>\n",
       "    <tr>\n",
       "      <th>5</th>\n",
       "      <td>5.4</td>\n",
       "      <td>3.9</td>\n",
       "      <td>1.7</td>\n",
       "      <td>0.4</td>\n",
       "      <td>0.0</td>\n",
       "    </tr>\n",
       "  </tbody>\n",
       "</table>\n",
       "</div>"
      ],
      "text/plain": [
       "       0    1    2    3    4\n",
       "39   5.1  3.4  1.5  0.2  0.0\n",
       "25   5.0  3.0  1.6  0.2  0.0\n",
       "116  6.5  3.0  5.5  1.8  2.0\n",
       "68   6.2  2.2  4.5  1.5  1.0\n",
       "5    5.4  3.9  1.7  0.4  0.0"
      ]
     },
     "execution_count": 51,
     "metadata": {},
     "output_type": "execute_result"
    }
   ],
   "source": [
    "iris= datasets.load_iris()\n",
    "X= iris.data\n",
    "Y=iris.target\n",
    "print(X.shape)\n",
    "X= np.insert(X,X.shape[1], Y, axis=1)\n",
    "data= pd.DataFrame(X)\n",
    "\n",
    "data=data.reindex(np.random.permutation(data.index))\n",
    "data.head()"
   ]
  },
  {
   "cell_type": "code",
   "execution_count": 20,
   "metadata": {},
   "outputs": [
    {
     "name": "stdout",
     "output_type": "stream",
     "text": [
      "(150, 5)\n",
      "(150,)\n"
     ]
    }
   ],
   "source": [
    "\n",
    "print(X.shape)\n",
    "print(Y.shape)"
   ]
  },
  {
   "cell_type": "code",
   "execution_count": 52,
   "metadata": {},
   "outputs": [
    {
     "name": "stdout",
     "output_type": "stream",
     "text": [
      "(150, 3)\n",
      "(150, 1)\n"
     ]
    }
   ],
   "source": [
    "#input layer will have 4 nodes and output layer will have 3 nodes(the 4th column is classifies into 0,1 and 2 . hence 3)\n",
    "features = data.iloc[:,:4]\n",
    "target = data.iloc[:,4]\n",
    "\n",
    "target = target.values.reshape((target.shape[0],1))\n",
    "target_class= np.zeros(shape=(target.shape[0],3))\n",
    "\n",
    "for i in range(target.shape[0]):\n",
    "    if target[i] == 0:\n",
    "        target_class[i][0]=1\n",
    "    elif target[i]==1:\n",
    "        target_class[i][1]=1\n",
    "    else:\n",
    "        target_class[i][2]=1\n",
    "print(target_class.shape)\n",
    "print(target.shape)\n"
   ]
  },
  {
   "cell_type": "code",
   "execution_count": 53,
   "metadata": {},
   "outputs": [],
   "source": [
    "def sigmoid(x):\n",
    "    return 1/(1 + np.exp(-x))\n",
    "def der_sigmoid(x):\n",
    "    return sigmoid(x)*(1-sigmoid(x))"
   ]
  },
  {
   "cell_type": "code",
   "execution_count": 54,
   "metadata": {},
   "outputs": [],
   "source": [
    "input_nodes = features.shape[1]\n",
    "output_nodes=3\n",
    "weight_matrix= np.random.uniform(size=(input_nodes,output_nodes))\n",
    "epoch=1000\n",
    "lr=0.02"
   ]
  },
  {
   "cell_type": "code",
   "execution_count": 55,
   "metadata": {},
   "outputs": [],
   "source": [
    "for i in range(epoch):\n",
    "    output_node_input = features.dot(weight_matrix)\n",
    "    output= sigmoid(output_node_input)\n",
    "    \n",
    "    error = target_class - output\n",
    "    drv = der_sigmoid(output_node_input)\n",
    "    delta_weight = error*drv\n",
    "    \n",
    "    weight_matrix = weight_matrix + lr*features.T.dot(delta_weight)"
   ]
  },
  {
   "cell_type": "code",
   "execution_count": 56,
   "metadata": {},
   "outputs": [
    {
     "name": "stdout",
     "output_type": "stream",
     "text": [
      "[0. 0. 2. 1. 0. 0. 0. 2. 1. 1. 0. 2. 0. 0. 2. 0. 1. 2. 0. 0. 1. 0. 1. 0.\n",
      " 2. 2. 2. 0. 1. 1. 0. 1. 2. 2. 2. 1. 0. 2. 1. 1. 1. 1. 0. 0. 2. 2. 2. 1.\n",
      " 1. 1. 0. 1. 2. 2. 0. 0. 2. 2. 0. 0. 0. 0. 0. 1. 2. 1. 2. 2. 1. 0. 2. 2.\n",
      " 1. 0. 2. 1. 0. 1. 2. 2. 0. 1. 2. 0. 2. 0. 0. 2. 1. 1. 0. 2. 1. 1. 1. 2.\n",
      " 0. 2. 0. 2. 2. 2. 1. 1. 1. 0. 2. 1. 1. 1. 1. 0. 2. 2. 0. 2. 0. 1. 0. 2.\n",
      " 0. 2. 2. 2. 0. 1. 2. 2. 2. 1. 0. 1. 2. 0. 1. 2. 2. 0. 0. 2. 2. 2. 0. 1.\n",
      " 1. 2. 0. 2. 0. 1.]\n"
     ]
    }
   ],
   "source": [
    "final_output = np.array(output)\n",
    "#print(final_output)\n",
    "output_class = np.zeros(shape  = final_output.shape[0])\n",
    "\n",
    "for i in range(final_output.shape[0]):\n",
    "    output_class[i] = np.argmax(final_output[i])\n",
    "print(output_class)\n",
    "class_diff = output_class - target[:,0]"
   ]
  },
  {
   "cell_type": "code",
   "execution_count": 45,
   "metadata": {},
   "outputs": [
    {
     "name": "stdout",
     "output_type": "stream",
     "text": [
      "[[1. 0. 0.]\n",
      " [0. 1. 0.]\n",
      " [0. 0. 1.]\n",
      " [0. 1. 0.]\n",
      " [1. 0. 0.]\n",
      " [1. 0. 0.]\n",
      " [0. 0. 1.]\n",
      " [0. 0. 1.]\n",
      " [0. 1. 0.]\n",
      " [1. 0. 0.]\n",
      " [0. 1. 0.]\n",
      " [0. 1. 0.]\n",
      " [0. 1. 0.]\n",
      " [1. 0. 0.]\n",
      " [0. 0. 1.]\n",
      " [1. 0. 0.]\n",
      " [0. 0. 1.]\n",
      " [1. 0. 0.]\n",
      " [1. 0. 0.]\n",
      " [0. 1. 0.]\n",
      " [0. 1. 0.]\n",
      " [1. 0. 0.]\n",
      " [0. 1. 0.]\n",
      " [1. 0. 0.]\n",
      " [0. 1. 0.]\n",
      " [1. 0. 0.]\n",
      " [1. 0. 0.]\n",
      " [0. 1. 0.]\n",
      " [0. 0. 1.]\n",
      " [0. 0. 1.]\n",
      " [1. 0. 0.]\n",
      " [0. 0. 1.]\n",
      " [0. 0. 1.]\n",
      " [0. 0. 1.]\n",
      " [1. 0. 0.]\n",
      " [0. 1. 0.]\n",
      " [0. 0. 1.]\n",
      " [1. 0. 0.]\n",
      " [1. 0. 0.]\n",
      " [0. 1. 0.]\n",
      " [0. 0. 1.]\n",
      " [0. 0. 1.]\n",
      " [0. 1. 0.]\n",
      " [1. 0. 0.]\n",
      " [1. 0. 0.]\n",
      " [0. 0. 1.]\n",
      " [1. 0. 0.]\n",
      " [1. 0. 0.]\n",
      " [1. 0. 0.]\n",
      " [1. 0. 0.]\n",
      " [1. 0. 0.]\n",
      " [0. 0. 1.]\n",
      " [0. 0. 1.]\n",
      " [0. 0. 1.]\n",
      " [0. 1. 0.]\n",
      " [0. 1. 0.]\n",
      " [0. 0. 1.]\n",
      " [0. 0. 1.]\n",
      " [0. 1. 0.]\n",
      " [0. 0. 1.]\n",
      " [0. 1. 0.]\n",
      " [1. 0. 0.]\n",
      " [1. 0. 0.]\n",
      " [0. 1. 0.]\n",
      " [0. 0. 1.]\n",
      " [0. 1. 0.]\n",
      " [0. 0. 1.]\n",
      " [0. 1. 0.]\n",
      " [0. 0. 1.]\n",
      " [1. 0. 0.]\n",
      " [0. 1. 0.]\n",
      " [0. 0. 1.]\n",
      " [0. 1. 0.]\n",
      " [1. 0. 0.]\n",
      " [0. 0. 1.]\n",
      " [0. 1. 0.]\n",
      " [0. 1. 0.]\n",
      " [0. 1. 0.]\n",
      " [0. 0. 1.]\n",
      " [1. 0. 0.]\n",
      " [0. 0. 1.]\n",
      " [0. 0. 1.]\n",
      " [0. 0. 1.]\n",
      " [1. 0. 0.]\n",
      " [0. 0. 1.]\n",
      " [0. 0. 1.]\n",
      " [0. 1. 0.]\n",
      " [1. 0. 0.]\n",
      " [0. 0. 1.]\n",
      " [0. 1. 0.]\n",
      " [0. 0. 1.]\n",
      " [1. 0. 0.]\n",
      " [0. 1. 0.]\n",
      " [0. 0. 1.]\n",
      " [0. 0. 1.]\n",
      " [0. 0. 1.]\n",
      " [0. 0. 1.]\n",
      " [0. 0. 1.]\n",
      " [1. 0. 0.]\n",
      " [1. 0. 0.]\n",
      " [0. 0. 1.]\n",
      " [0. 1. 0.]\n",
      " [0. 1. 0.]\n",
      " [0. 0. 1.]\n",
      " [1. 0. 0.]\n",
      " [1. 0. 0.]\n",
      " [0. 0. 1.]\n",
      " [1. 0. 0.]\n",
      " [0. 1. 0.]\n",
      " [1. 0. 0.]\n",
      " [0. 1. 0.]\n",
      " [0. 1. 0.]\n",
      " [0. 1. 0.]\n",
      " [1. 0. 0.]\n",
      " [1. 0. 0.]\n",
      " [0. 0. 1.]\n",
      " [0. 1. 0.]\n",
      " [1. 0. 0.]\n",
      " [0. 0. 1.]\n",
      " [1. 0. 0.]\n",
      " [1. 0. 0.]\n",
      " [0. 1. 0.]\n",
      " [0. 0. 1.]\n",
      " [0. 1. 0.]\n",
      " [1. 0. 0.]\n",
      " [0. 1. 0.]\n",
      " [0. 1. 0.]\n",
      " [1. 0. 0.]\n",
      " [0. 1. 0.]\n",
      " [0. 0. 1.]\n",
      " [0. 1. 0.]\n",
      " [0. 0. 1.]\n",
      " [1. 0. 0.]\n",
      " [0. 1. 0.]\n",
      " [0. 1. 0.]\n",
      " [1. 0. 0.]\n",
      " [1. 0. 0.]\n",
      " [1. 0. 0.]\n",
      " [0. 1. 0.]\n",
      " [0. 0. 1.]\n",
      " [0. 0. 1.]\n",
      " [0. 1. 0.]\n",
      " [1. 0. 0.]\n",
      " [0. 0. 1.]\n",
      " [1. 0. 0.]\n",
      " [0. 0. 1.]\n",
      " [0. 1. 0.]\n",
      " [0. 1. 0.]\n",
      " [0. 1. 0.]\n",
      " [0. 1. 0.]]\n"
     ]
    }
   ],
   "source": [
    "print(target_class)"
   ]
  },
  {
   "cell_type": "code",
   "execution_count": 46,
   "metadata": {},
   "outputs": [
    {
     "name": "stdout",
     "output_type": "stream",
     "text": [
      "[ 0.  0. -2.  0.  1.  1. -2. -1. -1.  1. -1.  0. -1.  0. -1.  0. -1.  1.\n",
      "  1.  0.  0.  1. -1.  1.  0.  1.  1.  0. -1. -2.  1. -1. -2. -1.  1. -1.\n",
      " -1.  0.  0.  0. -1. -1. -1.  1.  1. -1.  1.  1.  1.  0.  0. -1. -2. -1.\n",
      "  0.  0. -1. -2.  0. -1. -1.  0.  1.  0. -1. -1. -2.  0. -1.  1.  0. -1.\n",
      "  0.  1. -2.  0. -1.  0. -2.  0. -2. -2. -1.  0. -1. -1. -1.  1. -1.  0.\n",
      " -1.  0. -1. -1. -2. -1. -2. -1.  1.  1. -1.  0. -1. -1.  1.  1. -1.  1.\n",
      "  0.  1. -1.  0.  0.  1.  1. -1.  0.  1. -2.  1.  1. -1. -1. -1.  0.  0.\n",
      " -1.  1.  0. -1.  0. -2.  0.  0.  0.  1.  0.  1.  0. -1. -2.  0.  1. -1.\n",
      "  0. -1. -1. -1.  0. -1.]\n"
     ]
    }
   ],
   "source": [
    "print(class_diff)"
   ]
  },
  {
   "cell_type": "code",
   "execution_count": 57,
   "metadata": {},
   "outputs": [
    {
     "name": "stdout",
     "output_type": "stream",
     "text": [
      "Actual class\n",
      "[0. 0. 2. 1. 0. 0. 0. 2. 1. 1. 0. 2. 0. 0. 2. 0. 1. 2. 0. 0. 1. 0. 1. 0.\n",
      " 2. 1. 2. 0. 1. 1. 0. 1. 2. 2. 2. 1. 0. 2. 1. 1. 1. 1. 0. 0. 2. 2. 2. 1.\n",
      " 1. 1. 0. 1. 2. 1. 0. 0. 2. 2. 0. 0. 0. 0. 0. 1. 2. 1. 2. 2. 1. 0. 2. 2.\n",
      " 1. 0. 2. 2. 0. 1. 2. 2. 0. 1. 2. 0. 2. 0. 0. 2. 1. 1. 0. 2. 1. 1. 1. 2.\n",
      " 0. 1. 0. 2. 2. 2. 1. 1. 1. 0. 2. 1. 1. 1. 1. 0. 2. 2. 0. 2. 0. 1. 0. 1.\n",
      " 0. 2. 2. 1. 0. 1. 2. 1. 2. 1. 0. 1. 2. 0. 1. 2. 2. 0. 0. 2. 2. 2. 0. 1.\n",
      " 1. 2. 0. 2. 0. 1.]\n",
      ">>>>>>>>>>>>>>>>>>>>>>>>\n",
      "Predicted class\n",
      "[0. 0. 2. 1. 0. 0. 0. 2. 1. 1. 0. 2. 0. 0. 2. 0. 1. 2. 0. 0. 1. 0. 1. 0.\n",
      " 2. 2. 2. 0. 1. 1. 0. 1. 2. 2. 2. 1. 0. 2. 1. 1. 1. 1. 0. 0. 2. 2. 2. 1.\n",
      " 1. 1. 0. 1. 2. 2. 0. 0. 2. 2. 0. 0. 0. 0. 0. 1. 2. 1. 2. 2. 1. 0. 2. 2.\n",
      " 1. 0. 2. 1. 0. 1. 2. 2. 0. 1. 2. 0. 2. 0. 0. 2. 1. 1. 0. 2. 1. 1. 1. 2.\n",
      " 0. 2. 0. 2. 2. 2. 1. 1. 1. 0. 2. 1. 1. 1. 1. 0. 2. 2. 0. 2. 0. 1. 0. 2.\n",
      " 0. 2. 2. 2. 0. 1. 2. 2. 2. 1. 0. 1. 2. 0. 1. 2. 2. 0. 0. 2. 2. 2. 0. 1.\n",
      " 1. 2. 0. 2. 0. 1.]\n",
      "Accuracy:- 95.33333333333333 %\n"
     ]
    }
   ],
   "source": [
    "print('Actual class')\n",
    "print(target[:,0])\n",
    "print('>>>>>>>>>>>>>>>>>>>>>>>>')\n",
    "print('Predicted class')\n",
    "print(output_class)\n",
    "\n",
    "wrong_prediction = np.count_nonzero(class_diff)\n",
    "N= len(class_diff)\n",
    "simple_accuracy = 100*(N-wrong_prediction)/N\n",
    "print('Accuracy:-',(simple_accuracy),'%')"
   ]
  },
  {
   "cell_type": "code",
   "execution_count": null,
   "metadata": {},
   "outputs": [],
   "source": []
  }
 ],
 "metadata": {
  "kernelspec": {
   "display_name": "Python 3",
   "language": "python",
   "name": "python3"
  },
  "language_info": {
   "codemirror_mode": {
    "name": "ipython",
    "version": 3
   },
   "file_extension": ".py",
   "mimetype": "text/x-python",
   "name": "python",
   "nbconvert_exporter": "python",
   "pygments_lexer": "ipython3",
   "version": "3.6.5"
  }
 },
 "nbformat": 4,
 "nbformat_minor": 2
}

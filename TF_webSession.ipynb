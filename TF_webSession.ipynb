{
 "cells": [
  {
   "cell_type": "code",
   "execution_count": 1,
   "metadata": {},
   "outputs": [
    {
     "name": "stderr",
     "output_type": "stream",
     "text": [
      "/home/manisha/anaconda3/lib/python3.6/site-packages/h5py/__init__.py:36: FutureWarning: Conversion of the second argument of issubdtype from `float` to `np.floating` is deprecated. In future, it will be treated as `np.float64 == np.dtype(float).type`.\n",
      "  from ._conv import register_converters as _register_converters\n"
     ]
    }
   ],
   "source": [
    "import numpy as np\n",
    "import matplotlib.pyplot as plt\n",
    "import tensorflow as tf"
   ]
  },
  {
   "cell_type": "code",
   "execution_count": 13,
   "metadata": {},
   "outputs": [],
   "source": [
    "#tensor that contains a constant value 2\n",
    "t1= tf.constant(2.0,dtype=tf.float32)"
   ]
  },
  {
   "cell_type": "code",
   "execution_count": 3,
   "metadata": {},
   "outputs": [
    {
     "name": "stdout",
     "output_type": "stream",
     "text": [
      "Tensor(\"Const:0\", shape=(), dtype=float32)\n"
     ]
    }
   ],
   "source": [
    "print(t1)\n",
    "#prints tensor objct that says its name of tensor as Const:0 this is assigned by tensorflow \n",
    "#unless u mention what the name is going to be using name keyword\n",
    "#by printing tensor we don't get value but tensor\n",
    "#to get value we need sessions"
   ]
  },
  {
   "cell_type": "code",
   "execution_count": 4,
   "metadata": {},
   "outputs": [
    {
     "data": {
      "text/plain": [
       "<tf.Tensor 'my_first_tensor:0' shape=() dtype=float32>"
      ]
     },
     "execution_count": 4,
     "metadata": {},
     "output_type": "execute_result"
    }
   ],
   "source": [
    "t1= tf.constant(2.0,dtype=tf.float32, name='my_first_tensor')\n",
    "t1\n",
    "#dtype says the type of tensor\n",
    "#tf.constant- allows tensor to have constant value"
   ]
  },
  {
   "cell_type": "code",
   "execution_count": 5,
   "metadata": {},
   "outputs": [
    {
     "name": "stdout",
     "output_type": "stream",
     "text": [
      "Tensor(\"tensor2:0\", shape=(2,), dtype=float32)\n"
     ]
    }
   ],
   "source": [
    "t2= tf.constant([1.0, 2.0],dtype=tf.float32, name='tensor2')\n",
    "print(t2)"
   ]
  },
  {
   "cell_type": "code",
   "execution_count": 129,
   "metadata": {},
   "outputs": [
    {
     "name": "stdout",
     "output_type": "stream",
     "text": [
      "2.0\n"
     ]
    }
   ],
   "source": [
    "#tf.Session gives a session object. When u call run() on that object and pass it a tensor object,\n",
    "#it return value of that tensor\n",
    "sess= tf.Session()\n",
    "print(sess.run(t1)) #executing sesssion"
   ]
  },
  {
   "cell_type": "code",
   "execution_count": 7,
   "metadata": {},
   "outputs": [
    {
     "data": {
      "text/plain": [
       "array([1., 2.], dtype=float32)"
      ]
     },
     "execution_count": 7,
     "metadata": {},
     "output_type": "execute_result"
    }
   ],
   "source": [
    "sess.run(t2)"
   ]
  },
  {
   "cell_type": "code",
   "execution_count": 8,
   "metadata": {},
   "outputs": [
    {
     "name": "stdout",
     "output_type": "stream",
     "text": [
      "[[1. 2. 3.]\n",
      " [5. 6. 7.]]\n",
      "Tensor(\"tensor3:0\", shape=(2, 3), dtype=float32)\n"
     ]
    }
   ],
   "source": [
    "t3= tf.constant([[1.0,2.0,3.0],\n",
    "                [5.0,6.0,7.0]],dtype= tf.float32, name='tensor3')\n",
    "print(sess.run(t3))\n",
    "print(t3)"
   ]
  },
  {
   "cell_type": "code",
   "execution_count": 9,
   "metadata": {},
   "outputs": [],
   "source": [
    "sess.close()\n",
    "#after using session, close it"
   ]
  },
  {
   "cell_type": "code",
   "execution_count": 10,
   "metadata": {},
   "outputs": [
    {
     "name": "stdout",
     "output_type": "stream",
     "text": [
      "2.0\n",
      "[1. 2.]\n",
      "[[1. 2. 3.]\n",
      " [5. 6. 7.]]\n"
     ]
    }
   ],
   "source": [
    "#use session like this and no need to manually close it\n",
    "with tf.Session() as sess:\n",
    "    print(sess.run(t1))\n",
    "    print(sess.run(t2))\n",
    "    print(sess.run(t3))"
   ]
  },
  {
   "cell_type": "code",
   "execution_count": 19,
   "metadata": {},
   "outputs": [
    {
     "data": {
      "text/plain": [
       "<tf.Tensor 'mul_4:0' shape=() dtype=float32>"
      ]
     },
     "execution_count": 19,
     "metadata": {},
     "output_type": "execute_result"
    }
   ],
   "source": [
    "#Building Computational graph\n",
    "node_1=tf.constant(2.0,dtype=tf.float32, name='leaf_node1')\n",
    "node_2=tf.constant(3.0,dtype=tf.float32, name='leaf_node2')\n",
    "node_3=tf.constant(5.0,dtype=tf.float32, name='leaf_node3')\n",
    "\n",
    "cg_1=(node_1+node_2)* node_3\n",
    "\n",
    "#Alternatiely\n",
    "cg_1_1= tf.multiply(tf.add(node_1 , node_2), node_3)"
   ]
  },
  {
   "cell_type": "code",
   "execution_count": 22,
   "metadata": {},
   "outputs": [
    {
     "name": "stdout",
     "output_type": "stream",
     "text": [
      "25.0\n",
      "25.0\n"
     ]
    }
   ],
   "source": [
    "#Execute with session\n",
    "with tf.Session() as sess:\n",
    "    print(sess.run(cg_1))\n",
    "    print(sess.run(cg_1_1))"
   ]
  },
  {
   "cell_type": "code",
   "execution_count": 25,
   "metadata": {},
   "outputs": [],
   "source": [
    "node_1=tf.constant(7.0,dtype=tf.float32, name='leaf_node1')\n",
    "node_2=tf.constant(8.0,dtype=tf.float32, name='leaf_node2')\n",
    "node_3=tf.constant(9.0,dtype=tf.float32, name='leaf_node3')\n",
    "node_4=tf.constant(10.0,dtype=tf.float32, name='leaf_node4')\n",
    "node_5=tf.constant(7.0,dtype=tf.float32, name='leaf_node5')\n",
    "node_6=tf.constant(10.0,dtype=tf.float32, name='leaf_node6')\n",
    "node_7=tf.constant(19.5,dtype=tf.float32, name='leaf_node7')\n",
    "cg_2 = tf.maximum((node_1 + node_2) - (node_3 + node_4), (node_5 * node_6)/ node_7)\n"
   ]
  },
  {
   "cell_type": "code",
   "execution_count": 26,
   "metadata": {},
   "outputs": [
    {
     "name": "stdout",
     "output_type": "stream",
     "text": [
      "3.5897436\n"
     ]
    }
   ],
   "source": [
    "with tf.Session() as sess:\n",
    "    print(sess.run(cg_2))"
   ]
  },
  {
   "cell_type": "code",
   "execution_count": 34,
   "metadata": {},
   "outputs": [],
   "source": [
    "node_1=tf.constant([9,10,11],dtype=tf.float32, name='leaf_node1')\n",
    "node_2=tf.constant([7,8,6.5],dtype=tf.float32, name='leaf_node2')\n",
    "node_3=tf.constant(5.6,dtype=tf.float32, name='leaf_node3')\n",
    "node_4=tf.constant([7.65,9.0,6.75],dtype=tf.float32, name='leaf_node4')\n",
    "node_5=tf.constant([13.5,7.18,17],dtype=tf.float32, name='leaf_node5')\n",
    "\n",
    "cg_3= tf.minimum(((node_1 * node_2)/ node_3),(node_4 + node_5))"
   ]
  },
  {
   "cell_type": "code",
   "execution_count": 36,
   "metadata": {},
   "outputs": [
    {
     "name": "stdout",
     "output_type": "stream",
     "text": [
      "[11.25     14.285714 12.767858]\n"
     ]
    }
   ],
   "source": [
    "with tf.Session() as sess:\n",
    "    print(sess.run(cg_3))"
   ]
  },
  {
   "cell_type": "markdown",
   "metadata": {},
   "source": [
    "# Linear Regression using low level tf APIs"
   ]
  },
  {
   "cell_type": "code",
   "execution_count": 80,
   "metadata": {},
   "outputs": [],
   "source": [
    "#create a dataset\n",
    "X = np.linspace(-30, 300.0, 300)\n",
    "Y= 2 * np.linspace(-25.0, 250.0, 300) + np.random.randn(*X.shape)"
   ]
  },
  {
   "cell_type": "code",
   "execution_count": 81,
   "metadata": {},
   "outputs": [],
   "source": [
    "#Divide it to train and test set\n",
    "train_X = X[:250]\n",
    "train_Y = Y[:250]\n",
    "\n",
    "test_X = X[250:]\n",
    "test_Y = Y[250:]"
   ]
  },
  {
   "cell_type": "code",
   "execution_count": 118,
   "metadata": {},
   "outputs": [],
   "source": [
    "#Let's define Hyperparameters\n",
    "learning_rate = 0.000005\n",
    "n_epochs = 1000\n",
    "interval = 50"
   ]
  },
  {
   "cell_type": "code",
   "execution_count": 119,
   "metadata": {},
   "outputs": [
    {
     "data": {
      "image/png": "[encoded data removed]",
      "text/plain": [
       "<Figure size 432x288 with 1 Axes>"
      ]
     },
     "metadata": {},
     "output_type": "display_data"
    }
   ],
   "source": [
    "#Lets visualize the dataset for first 10 datapoints\n",
    "plt.plot(train_X[50:60],train_Y[50:60],'g')\n",
    "plt.show()"
   ]
  },
  {
   "cell_type": "code",
   "execution_count": 120,
   "metadata": {},
   "outputs": [],
   "source": [
    "#Let's use placeholders\n",
    "#they contain the input value for x and y for each iteration\n",
    "x= tf.placeholder(tf.float32, name='x')\n",
    "y= tf.placeholder(tf.float32, name='y')"
   ]
  },
  {
   "cell_type": "code",
   "execution_count": 121,
   "metadata": {},
   "outputs": [],
   "source": [
    "#Lets build the Linear regression model\n",
    "# values of variables change after every iteration, so we need them\n",
    "W = tf.Variable(0.0, name='weight_1')\n",
    "b= tf.Variable(0.0, name='bias_1')\n",
    "pred_y= (W * x) + b"
   ]
  },
  {
   "cell_type": "code",
   "execution_count": 122,
   "metadata": {},
   "outputs": [],
   "source": [
    "#loss function\n",
    "loss = tf.reduce_mean(tf.square(y-pred_y))\n",
    "#root mean square loss"
   ]
  },
  {
   "cell_type": "code",
   "execution_count": 124,
   "metadata": {},
   "outputs": [],
   "source": [
    "#Optimizer is needed to update the values of these variables by using this loss function and \n",
    "#calculating the derivative w.r.t values present in these variable\n",
    "optimizer =tf.train.GradientDescentOptimizer(learning_rate = learning_rate).minimize(loss)"
   ]
  },
  {
   "cell_type": "code",
   "execution_count": 127,
   "metadata": {},
   "outputs": [
    {
     "name": "stdout",
     "output_type": "stream",
     "text": [
      "Loss after epoch 0 is 49677.863\n",
      "Loss after epoch 50 is 0.9854301\n",
      "Loss after epoch 100 is 0.98528534\n",
      "Loss after epoch 150 is 0.9852769\n",
      "Loss after epoch 200 is 0.9852697\n",
      "Loss after epoch 250 is 0.98526275\n",
      "Loss after epoch 300 is 0.9852533\n",
      "Loss after epoch 350 is 0.98524696\n",
      "Loss after epoch 400 is 0.9852383\n",
      "Loss after epoch 450 is 0.9852322\n",
      "Loss after epoch 500 is 0.9852246\n",
      "Loss after epoch 550 is 0.9852161\n",
      "Loss after epoch 600 is 0.98520917\n",
      "Loss after epoch 650 is 0.9852017\n",
      "Loss after epoch 700 is 0.98519534\n",
      "Loss after epoch 750 is 0.98518777\n",
      "Loss after epoch 800 is 0.9851808\n",
      "Loss after epoch 850 is 0.98517096\n",
      "Loss after epoch 900 is 0.9851638\n",
      "Loss after epoch 950 is 0.9851585\n",
      "The final loss is 0.9025588\n"
     ]
    }
   ],
   "source": [
    "#Execute using session\n",
    "#One complete iteration through a dataset is one epoch\n",
    "with tf.Session() as sess:\n",
    "    sess.run(tf.global_variables_initializer())\n",
    "    \n",
    "    for epoch in range(n_epochs):\n",
    "        _,curr_loss = sess.run([optimizer, loss], feed_dict={x:train_X, y: train_Y})\n",
    "        #print('Loss after epoch ',epoch,' is ',curr_loss)\n",
    "        \n",
    "    \n",
    "    \n",
    "        if epoch % interval ==0:\n",
    "            print('Loss after epoch',epoch ,'is',curr_loss)\n",
    "\n",
    "    final_preds, final_loss = sess.run([pred_y,loss], feed_dict={x:test_X, y:test_Y})\n",
    "    print('The final loss is', final_loss)\n"
   ]
  },
  {
   "cell_type": "code",
   "execution_count": 128,
   "metadata": {},
   "outputs": [
    {
     "data": {
      "image/png": "[encoded data removed]",
      "text/plain": [
       "<Figure size 432x288 with 1 Axes>"
      ]
     },
     "metadata": {},
     "output_type": "display_data"
    }
   ],
   "source": [
    "plt.plot(test_X[:10],test_Y[:10], 'g', label='True function')\n",
    "plt.plot(test_X[:10],final_preds[:10], 'r', label='Predicted function')\n",
    "plt.legend()\n",
    "plt.show()"
   ]
  },
  {
   "cell_type": "code",
   "execution_count": null,
   "metadata": {},
   "outputs": [],
   "source": []
  }
 ],
 "metadata": {
  "kernelspec": {
   "display_name": "Python 3",
   "language": "python",
   "name": "python3"
  },
  "language_info": {
   "codemirror_mode": {
    "name": "ipython",
    "version": 3
   },
   "file_extension": ".py",
   "mimetype": "text/x-python",
   "name": "python",
   "nbconvert_exporter": "python",
   "pygments_lexer": "ipython3",
   "version": "3.6.5"
  }
 },
 "nbformat": 4,
 "nbformat_minor": 2
}

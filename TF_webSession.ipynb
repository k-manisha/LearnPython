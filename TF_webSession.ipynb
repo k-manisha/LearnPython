{
 "cells": [
  {
   "cell_type": "code",
   "execution_count": 1,
   "metadata": {},
   "outputs": [
    {
     "name": "stderr",
     "output_type": "stream",
     "text": [
      "/home/manisha/anaconda3/lib/python3.6/site-packages/h5py/__init__.py:36: FutureWarning: Conversion of the second argument of issubdtype from `float` to `np.floating` is deprecated. In future, it will be treated as `np.float64 == np.dtype(float).type`.\n",
      "  from ._conv import register_converters as _register_converters\n"
     ]
    }
   ],
   "source": [
    "import numpy as np\n",
    "import matplotlib.pyplot as plt\n",
    "import tensorflow as tf"
   ]
  },
  {
   "cell_type": "code",
   "execution_count": 2,
   "metadata": {},
   "outputs": [],
   "source": [
    "#tensor that contains a constant value 2\n",
    "t1= tf.constant(2.0,dtype=tf.float32)"
   ]
  },
  {
   "cell_type": "code",
   "execution_count": 3,
   "metadata": {},
   "outputs": [
    {
     "name": "stdout",
     "output_type": "stream",
     "text": [
      "Tensor(\"Const:0\", shape=(), dtype=float32)\n"
     ]
    }
   ],
   "source": [
    "print(t1)\n",
    "#prints tensor objct that says its name of tensor as Const:0 this is assigned by tensorflow \n",
    "#unless u mention what the name is going to be using name keyword\n",
    "#by printing tensor we don't get value but tensor\n",
    "#to get value we need sessions"
   ]
  },
  {
   "cell_type": "code",
   "execution_count": 5,
   "metadata": {},
   "outputs": [
    {
     "data": {
      "text/plain": [
       "<tf.Tensor 'my_first_tensor_1:0' shape=() dtype=float32>"
      ]
     },
     "execution_count": 5,
     "metadata": {},
     "output_type": "execute_result"
    }
   ],
   "source": [
    "t1= tf.constant(2.0,dtype=tf.float32, name='my_first_tensor')\n",
    "t1\n",
    "#dtype says the type of tensor\n",
    "#tf.constant- allows tensor to have constant value"
   ]
  },
  {
   "cell_type": "code",
   "execution_count": 6,
   "metadata": {},
   "outputs": [
    {
     "name": "stdout",
     "output_type": "stream",
     "text": [
      "Tensor(\"tensor2:0\", shape=(2,), dtype=float32)\n"
     ]
    }
   ],
   "source": [
    "t2= tf.constant([1.0, 2.0],dtype=tf.float32, name='tensor2')\n",
    "print(t2)"
   ]
  },
  {
   "cell_type": "code",
   "execution_count": 8,
   "metadata": {},
   "outputs": [
    {
     "name": "stdout",
     "output_type": "stream",
     "text": [
      "2.0\n"
     ]
    }
   ],
   "source": [
    "#tf.Session gives a session object. When u call run() on that object and pass it a tensor object,\n",
    "#it return value of that tensor\n",
    "sess= tf.Session()\n",
    "print(sess.run(t1)) #executing sesssion"
   ]
  },
  {
   "cell_type": "code",
   "execution_count": 9,
   "metadata": {},
   "outputs": [
    {
     "data": {
      "text/plain": [
       "array([1., 2.], dtype=float32)"
      ]
     },
     "execution_count": 9,
     "metadata": {},
     "output_type": "execute_result"
    }
   ],
   "source": [
    "sess.run(t2)"
   ]
  },
  {
   "cell_type": "code",
   "execution_count": 10,
   "metadata": {},
   "outputs": [
    {
     "name": "stdout",
     "output_type": "stream",
     "text": [
      "[[1. 2. 3.]\n",
      " [5. 6. 7.]]\n",
      "Tensor(\"tensor3:0\", shape=(2, 3), dtype=float32)\n"
     ]
    }
   ],
   "source": [
    "t3= tf.constant([[1.0,2.0,3.0],\n",
    "                [5.0,6.0,7.0]],dtype= tf.float32, name='tensor3')\n",
    "print(sess.run(t3))\n",
    "print(t3)"
   ]
  },
  {
   "cell_type": "code",
   "execution_count": 12,
   "metadata": {},
   "outputs": [],
   "source": [
    "sess.close()\n",
    "#after using session, close it"
   ]
  },
  {
   "cell_type": "code",
   "execution_count": 13,
   "metadata": {},
   "outputs": [
    {
     "name": "stdout",
     "output_type": "stream",
     "text": [
      "2.0\n",
      "[1. 2.]\n",
      "[[1. 2. 3.]\n",
      " [5. 6. 7.]]\n"
     ]
    }
   ],
   "source": [
    "#use session like this and no need to manually close it\n",
    "with tf.Session() as sess:\n",
    "    print(sess.run(t1))\n",
    "    print(sess.run(t2))\n",
    "    print(sess.run(t3))"
   ]
  },
  {
   "cell_type": "code",
   "execution_count": null,
   "metadata": {},
   "outputs": [],
   "source": [
    "#Building Computational graph\n",
    "cg1=tf.graph()"
   ]
  }
 ],
 "metadata": {
  "kernelspec": {
   "display_name": "Python 3",
   "language": "python",
   "name": "python3"
  },
  "language_info": {
   "codemirror_mode": {
    "name": "ipython",
    "version": 3
   },
   "file_extension": ".py",
   "mimetype": "text/x-python",
   "name": "python",
   "nbconvert_exporter": "python",
   "pygments_lexer": "ipython3",
   "version": "3.6.5"
  }
 },
 "nbformat": 4,
 "nbformat_minor": 2
}
